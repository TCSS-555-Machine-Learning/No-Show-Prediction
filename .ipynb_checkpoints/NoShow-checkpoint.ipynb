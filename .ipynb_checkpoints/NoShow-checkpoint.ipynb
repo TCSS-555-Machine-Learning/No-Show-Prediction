{
 "cells": [
  {
   "cell_type": "code",
   "execution_count": 1,
   "metadata": {},
   "outputs": [],
   "source": [
    "# Load libraries\n",
    "\n",
    "import numpy as np\n",
    "import pandas as pd\n",
    "import matplotlib.pyplot as plt\n",
    "\n",
    "from datetime import datetime\n",
    "from dateutil.parser import parse\n",
    "from pandas.plotting import scatter_matrix\n",
    "from sklearn.utils import shuffle\n",
    "from sklearn.preprocessing import MinMaxScaler\n",
    "from sklearn import model_selection\n",
    "from sklearn.metrics import classification_report\n",
    "from sklearn.metrics import confusion_matrix\n",
    "from sklearn.metrics import accuracy_score\n",
    "from sklearn.linear_model import LogisticRegression\n",
    "from sklearn.tree import DecisionTreeClassifier\n",
    "from sklearn.neighbors import KNeighborsClassifier\n",
    "from sklearn.discriminant_analysis import LinearDiscriminantAnalysis\n",
    "from sklearn.naive_bayes import GaussianNB\n",
    "from sklearn.svm import SVC"
   ]
  },
  {
   "cell_type": "code",
   "execution_count": 2,
   "metadata": {},
   "outputs": [
    {
     "name": "stdout",
     "output_type": "stream",
     "text": [
      "Current folder is C:\\Users\\toddr\\Desktop\\No-Show-Prediction\n"
     ]
    }
   ],
   "source": [
    "import os \n",
    "cwd = os.getcwd()\n",
    "print('Current folder is {}'.format(cwd))"
   ]
  },
  {
   "cell_type": "code",
   "execution_count": 3,
   "metadata": {},
   "outputs": [],
   "source": [
    "def get_gender_classification(gender):\n",
    "    if gender == 'F':\n",
    "        return 0\n",
    "    elif gender == 'M':\n",
    "        return 1\n",
    "    else:\n",
    "        return -1\n",
    "    \n",
    "def get_noshow_classification(noshow):\n",
    "    if noshow == 'No':\n",
    "        return 0\n",
    "    elif noshow == 'Yes':\n",
    "        return 1\n",
    "    else:\n",
    "        return -1\n",
    "    \n",
    "def get_neighbourhood_classification(neighbour):\n",
    "    i, = np.where(neighbourhood == neighbour)\n",
    "    return i[0]\n",
    "\n",
    "def get_days(sch , app):\n",
    "    a = app[0:10]\n",
    "    b = parse(a)    \n",
    "    c = sch[0:10]\n",
    "    d = parse(c)\n",
    "    return (b - d)\n",
    "\n",
    "def get_age_classification(age):\n",
    "    if (age<=1):\n",
    "        return age\n",
    "    elif (age<65):\n",
    "        return 2\n",
    "    else:\n",
    "        return 3\n",
    "\n",
    "def add_data(row):\n",
    "    row.gender = get_gender_classification(row.gender)\n",
    "    row.noshow = get_noshow_classification(row.noshow)\n",
    "    row.neighbourhood = get_neighbourhood_classification(row.neighbourhood)\n",
    "    row.agegroup = get_age_classification(row.age)\n",
    "    day1 = parse(row.scheduledday[0:10])\n",
    "    day2 = parse(row.appointmentday[0:10])\n",
    "    row.daysbefore = (day2 - day1).days\n",
    "    row.appointmentdayofweek = datetime.weekday(day2)\n",
    "    return row"
   ]
  },
  {
   "cell_type": "code",
   "execution_count": 4,
   "metadata": {},
   "outputs": [
    {
     "name": "stdout",
     "output_type": "stream",
     "text": [
      "n = 5000 and p = 14\n"
     ]
    }
   ],
   "source": [
    "# Load dataset\n",
    "data = pd.read_csv(\"Data\\KaggleV2-May-2016.csv\")\n",
    "data = shuffle(data)\n",
    "data = data[:5000]  #get first 5000 rows\n",
    "\n",
    "# Dimensions of dataset\n",
    "n = data.shape[0] #rows\n",
    "p = data.shape[1] #columns\n",
    "\n",
    "# Lower case all column header\n",
    "data.columns = [x.lower() for x in data.columns]\n",
    "\n",
    "# Rename several DataFrame columns\n",
    "data = data.rename(columns = {\n",
    "    'sms_received' : 'smsreceived',\n",
    "    'no-show':'noshow',\n",
    "})\n",
    "\n",
    "print('n = {} and p = {}'.format(n, p))"
   ]
  },
  {
   "cell_type": "code",
   "execution_count": 5,
   "metadata": {},
   "outputs": [
    {
     "name": "stdout",
     "output_type": "stream",
     "text": [
      "Datasets shape: (5000, 14)\n",
      "           patientid  appointmentid gender          scheduledday  \\\n",
      "109428  5.691326e+12        5761725      M  2016-06-02T07:00:45Z   \n",
      "89845   2.863627e+10        5735071      M  2016-05-24T16:53:44Z   \n",
      "\n",
      "              appointmentday  appointmentdayofweek  daysbefore  age  \\\n",
      "109428  2016-06-06T00:00:00Z                     0           0   57   \n",
      "89845   2016-06-02T00:00:00Z                     0           0   62   \n",
      "\n",
      "         neighbourhood  agegroup  scholarship  hipertension  diabetes  \\\n",
      "109428        GURIGICA         0            0             0         0   \n",
      "89845   JARDIM CAMBURI         0            0             0         0   \n",
      "\n",
      "        alcoholism  handcap  smsreceived noshow  \n",
      "109428           0        0            1     No  \n",
      "89845            0        0            0     No  \n"
     ]
    }
   ],
   "source": [
    "# shape\n",
    "print('Dataset''s shape: {}'.format(data.shape))\n",
    "\n",
    "# add 2 columns\n",
    "data.insert(7, 'agegroup', 0)\n",
    "data.insert(5, 'daysbefore', 0) #how many days from scheduled day to appointment day\n",
    "data.insert(5, 'appointmentdayofweek', 0)  #what is the day of week of the appointment day\n",
    "\n",
    "# head\n",
    "print(data.head(2))\n",
    "\n",
    "# descriptions\n",
    "# print(data.describe())"
   ]
  },
  {
   "cell_type": "code",
   "execution_count": 6,
   "metadata": {},
   "outputs": [
    {
     "name": "stdout",
     "output_type": "stream",
     "text": [
      "['GURIGICA' 'JARDIM CAMBURI' 'REDENÇÃO' 'SANTO ANTÔNIO' 'TABUAZEIRO'\n",
      " 'MONTE BELO' 'SANTOS REIS' 'ILHA DO PRÍNCIPE' 'SÃO JOSÉ' 'JABOUR'\n",
      " 'CENTRO' 'SANTA MARTHA' 'DO CABRAL' 'ITARARÉ' 'ILHA DE SANTA MARIA'\n",
      " 'CONSOLAÇÃO' 'SANTA CLARA' 'SANTOS DUMONT' 'JARDIM DA PENHA' 'BELA VISTA'\n",
      " 'ILHA DAS CAIEIRAS' 'NOVA PALESTINA' 'JOANA D´ARC' 'SÃO CRISTÓVÃO'\n",
      " 'VILA RUBIM' 'MARIA ORTIZ' 'DO QUADRO' 'MARUÍPE' 'JESUS DE NAZARETH'\n",
      " 'FORTE SÃO JOÃO' 'ANDORINHAS' 'REPÚBLICA' 'RESISTÊNCIA' 'CARATOÍRA'\n",
      " 'CRUZAMENTO' 'CONQUISTA' 'BENTO FERREIRA' 'NAZARETH' 'GRANDE VITÓRIA'\n",
      " 'PARQUE MOSCOSO' 'SÃO BENEDITO' 'ROMÃO' 'BONFIM' 'ESTRELINHA'\n",
      " 'FONTE GRANDE' 'SANTO ANDRÉ' 'DA PENHA' 'INHANGUETÁ' 'SANTA LÚCIA'\n",
      " 'JUCUTUQUARA' 'ENSEADA DO SUÁ' 'PRAIA DO CANTO' 'ARIOVALDO FAVALESSA'\n",
      " 'DE LOURDES' 'SANTA LUÍZA' 'SÃO PEDRO' 'MÁRIO CYPRESTE' 'PRAIA DO SUÁ'\n",
      " 'MATA DA PRAIA' 'GOIABEIRAS' 'SOLON BORGES' 'BOA VISTA' 'FRADINHOS'\n",
      " 'BARRO VERMELHO' 'SANTA HELENA' 'SANTA CECÍLIA' 'SANTA TEREZA'\n",
      " 'DO MOSCOSO' 'ANTÔNIO HONÓRIO' 'PIEDADE' 'COMDUSA' 'UNIVERSITÁRIO'\n",
      " 'HORTO' 'SEGURANÇA DO LAR' 'MORADA DE CAMBURI' 'PONTAL DE CAMBURI'\n",
      " 'AEROPORTO' 'ILHA DO BOI']\n"
     ]
    }
   ],
   "source": [
    "neighbourhood = data.neighbourhood.unique()\n",
    "print(neighbourhood)"
   ]
  },
  {
   "cell_type": "code",
   "execution_count": 7,
   "metadata": {},
   "outputs": [],
   "source": [
    "data = data.apply(lambda row: add_data(row), axis=1)"
   ]
  },
  {
   "cell_type": "code",
   "execution_count": 8,
   "metadata": {},
   "outputs": [
    {
     "name": "stdout",
     "output_type": "stream",
     "text": [
      "           patientid  appointmentid  gender          scheduledday  \\\n",
      "109428  5.691326e+12        5761725       1  2016-06-02T07:00:45Z   \n",
      "89845   2.863627e+10        5735071       1  2016-05-24T16:53:44Z   \n",
      "5145    5.289178e+12        5735372       1  2016-05-25T07:05:32Z   \n",
      "34274   2.513994e+14        5684123       1  2016-05-11T08:15:28Z   \n",
      "88838   7.988734e+14        5666083       1  2016-05-05T15:52:01Z   \n",
      "\n",
      "              appointmentday  appointmentdayofweek  daysbefore  age  \\\n",
      "109428  2016-06-06T00:00:00Z                     0           4   57   \n",
      "89845   2016-06-02T00:00:00Z                     3           9   62   \n",
      "5145    2016-05-31T00:00:00Z                     1           6   67   \n",
      "34274   2016-05-11T00:00:00Z                     2           0   15   \n",
      "88838   2016-06-03T00:00:00Z                     4          29   76   \n",
      "\n",
      "        neighbourhood  agegroup  scholarship  hipertension  diabetes  \\\n",
      "109428              0         2            0             0         0   \n",
      "89845               1         2            0             0         0   \n",
      "5145                1         3            0             0         0   \n",
      "34274               2         2            0             0         0   \n",
      "88838               3         3            0             0         0   \n",
      "\n",
      "        alcoholism  handcap  smsreceived  noshow  \n",
      "109428           0        0            1       0  \n",
      "89845            0        0            0       0  \n",
      "5145             0        0            1       0  \n",
      "34274            0        0            0       0  \n",
      "88838            0        0            1       0  \n"
     ]
    },
    {
     "data": {
      "text/html": [
       "<div>\n",
       "<style scoped>\n",
       "    .dataframe tbody tr th:only-of-type {\n",
       "        vertical-align: middle;\n",
       "    }\n",
       "\n",
       "    .dataframe tbody tr th {\n",
       "        vertical-align: top;\n",
       "    }\n",
       "\n",
       "    .dataframe thead th {\n",
       "        text-align: right;\n",
       "    }\n",
       "</style>\n",
       "<table border=\"1\" class=\"dataframe\">\n",
       "  <thead>\n",
       "    <tr style=\"text-align: right;\">\n",
       "      <th></th>\n",
       "      <th>appointmentdayofweek</th>\n",
       "      <th>noshow</th>\n",
       "      <th>counts</th>\n",
       "    </tr>\n",
       "  </thead>\n",
       "  <tbody>\n",
       "    <tr>\n",
       "      <th>0</th>\n",
       "      <td>0</td>\n",
       "      <td>0</td>\n",
       "      <td>785</td>\n",
       "    </tr>\n",
       "    <tr>\n",
       "      <th>1</th>\n",
       "      <td>0</td>\n",
       "      <td>1</td>\n",
       "      <td>206</td>\n",
       "    </tr>\n",
       "    <tr>\n",
       "      <th>2</th>\n",
       "      <td>1</td>\n",
       "      <td>0</td>\n",
       "      <td>939</td>\n",
       "    </tr>\n",
       "    <tr>\n",
       "      <th>3</th>\n",
       "      <td>1</td>\n",
       "      <td>1</td>\n",
       "      <td>260</td>\n",
       "    </tr>\n",
       "    <tr>\n",
       "      <th>4</th>\n",
       "      <td>2</td>\n",
       "      <td>0</td>\n",
       "      <td>1009</td>\n",
       "    </tr>\n",
       "    <tr>\n",
       "      <th>5</th>\n",
       "      <td>2</td>\n",
       "      <td>1</td>\n",
       "      <td>243</td>\n",
       "    </tr>\n",
       "    <tr>\n",
       "      <th>6</th>\n",
       "      <td>3</td>\n",
       "      <td>0</td>\n",
       "      <td>590</td>\n",
       "    </tr>\n",
       "    <tr>\n",
       "      <th>7</th>\n",
       "      <td>3</td>\n",
       "      <td>1</td>\n",
       "      <td>138</td>\n",
       "    </tr>\n",
       "    <tr>\n",
       "      <th>8</th>\n",
       "      <td>4</td>\n",
       "      <td>0</td>\n",
       "      <td>652</td>\n",
       "    </tr>\n",
       "    <tr>\n",
       "      <th>9</th>\n",
       "      <td>4</td>\n",
       "      <td>1</td>\n",
       "      <td>178</td>\n",
       "    </tr>\n",
       "  </tbody>\n",
       "</table>\n",
       "</div>"
      ],
      "text/plain": [
       "   appointmentdayofweek  noshow  counts\n",
       "0                     0       0     785\n",
       "1                     0       1     206\n",
       "2                     1       0     939\n",
       "3                     1       1     260\n",
       "4                     2       0    1009\n",
       "5                     2       1     243\n",
       "6                     3       0     590\n",
       "7                     3       1     138\n",
       "8                     4       0     652\n",
       "9                     4       1     178"
      ]
     },
     "execution_count": 8,
     "metadata": {},
     "output_type": "execute_result"
    }
   ],
   "source": [
    "print(data.head(5))\n",
    "data.groupby(['appointmentdayofweek','noshow']).size().reset_index(name='counts')"
   ]
  },
  {
   "cell_type": "code",
   "execution_count": 9,
   "metadata": {},
   "outputs": [],
   "source": [
    "#drop 3 columns that we don't need\n",
    "# data.drop('patientid', axis=1, inplace=True)\n",
    "data.drop('appointmentid', axis=1, inplace=True) #axis=1 means apply for each row\n",
    "data.drop('appointmentday', axis=1, inplace=True)#axis=1 means apply for each row\n",
    "data.drop('scheduledday', axis=1, inplace=True) #axis=1 means apply for each row\n",
    "data.drop('appointmentdayofweek', axis=1, inplace=True) #axis=1 means apply for each row \n",
    "data.drop('age', axis=1, inplace=True) #axis=1 means apply for each row \n",
    "# data.drop('agegroup', axis=1, inplace=True) #axis=1 means apply for each row \n",
    "# data.drop('daysbefore', axis=1, inplace=True) #axis=1 means apply for each row \n",
    "data.drop('neighbourhood', axis=1, inplace=True) #axis=1 means apply for each row \n",
    "data.drop('alcoholism', axis=1, inplace=True) #axis=1 means apply for each row\n",
    "data.drop('diabetes', axis=1, inplace=True) #axis=1 means apply for each row\n",
    "# data.drop('gender', axis=1, inplace=True) #axis=1 means apply for each row\n",
    "data.drop('handcap', axis=1, inplace=True) #axis=1 means apply for each row\n",
    "data.drop('scholarship', axis=1, inplace=True) #axis=1 means apply for each row\n",
    "data.drop('hipertension', axis=1, inplace=True) #axis=1 means apply for each row\n",
    "data.drop('smsreceived', axis=1, inplace=True) #axis=1 means apply for each row"
   ]
  },
  {
   "cell_type": "code",
   "execution_count": 10,
   "metadata": {},
   "outputs": [
    {
     "name": "stdout",
     "output_type": "stream",
     "text": [
      "           patientid  gender  daysbefore  agegroup  noshow\n",
      "109428  5.691326e+12       1           4         2       0\n",
      "89845   2.863627e+10       1           9         2       0\n",
      "n = 5000 and p = 5\n"
     ]
    }
   ],
   "source": [
    "# checking\n",
    "print(data.head(2))\n",
    "print('n = {} and p = {}'.format(data.shape[0], data.shape[1]))"
   ]
  },
  {
   "cell_type": "code",
   "execution_count": 11,
   "metadata": {},
   "outputs": [
    {
     "name": "stdout",
     "output_type": "stream",
     "text": [
      "[[5.69132586e+12 1.00000000e+00 4.00000000e+00 2.00000000e+00]\n",
      " [2.86362741e+10 1.00000000e+00 9.00000000e+00 2.00000000e+00]]\n",
      "[0. 0.]\n",
      "20000\n"
     ]
    }
   ],
   "source": [
    "# Split-out validation dataset (No-show column only)\n",
    "col = len(data.columns) - 1\n",
    "array = data.values   #numpy array\n",
    "X = array[:,0:col]#numpy array - 11 first columns\n",
    "Y = array[:,col]  #numpy array - the 12st column\n",
    "print(X[0:2,])  #print top 2 rows\n",
    "print(Y[0:2,])  #print top 2 rows\n",
    "print(X.size)"
   ]
  },
  {
   "cell_type": "code",
   "execution_count": 12,
   "metadata": {},
   "outputs": [
    {
     "name": "stdout",
     "output_type": "stream",
     "text": [
      "[[1.53247644e+13 0.00000000e+00 1.00000000e+00 2.00000000e+00]\n",
      " [9.94689744e+11 1.00000000e+00 1.30000000e+01 2.00000000e+00]\n",
      " [7.91949756e+12 1.00000000e+00 2.60000000e+01 2.00000000e+00]\n",
      " ...\n",
      " [3.36561326e+13 1.00000000e+00 7.00000000e+00 2.00000000e+00]\n",
      " [8.14185567e+12 0.00000000e+00 0.00000000e+00 2.00000000e+00]\n",
      " [6.22219372e+12 0.00000000e+00 1.10000000e+01 2.00000000e+00]]\n"
     ]
    }
   ],
   "source": [
    "validation_size = 0.20\n",
    "seed = 7\n",
    "X_train, X_validation, Y_train, Y_validation = model_selection.train_test_split(X, Y, test_size=validation_size, random_state=seed)\n",
    "\n",
    "print('{}'.format(X_train, Y_train))"
   ]
  },
  {
   "cell_type": "code",
   "execution_count": 13,
   "metadata": {},
   "outputs": [
    {
     "name": "stdout",
     "output_type": "stream",
     "text": [
      "[[1.53247644e+13 0.00000000e+00 1.00000000e+00 2.00000000e+00]\n",
      " [9.94689744e+11 1.00000000e+00 1.30000000e+01 2.00000000e+00]\n",
      " [7.91949756e+12 1.00000000e+00 2.60000000e+01 2.00000000e+00]\n",
      " ...\n",
      " [3.36561326e+13 1.00000000e+00 7.00000000e+00 2.00000000e+00]\n",
      " [8.14185567e+12 0.00000000e+00 0.00000000e+00 2.00000000e+00]\n",
      " [6.22219372e+12 0.00000000e+00 1.10000000e+01 2.00000000e+00]]\n"
     ]
    }
   ],
   "source": [
    "validation_size = 0.20\n",
    "seed = 7\n",
    "X_train, X_validation, Y_train, Y_validation = model_selection.train_test_split(X, Y, test_size=validation_size, random_state=seed)\n",
    "\n",
    "print('{}'.format(X_train, Y_train))"
   ]
  },
  {
   "cell_type": "code",
   "execution_count": 14,
   "metadata": {},
   "outputs": [],
   "source": [
    "# Test options and evaluation metric\n",
    "seed = 7\n",
    "scoring = 'accuracy'"
   ]
  },
  {
   "cell_type": "code",
   "execution_count": 15,
   "metadata": {},
   "outputs": [
    {
     "name": "stdout",
     "output_type": "stream",
     "text": [
      "LR: 0.793000 (0.025343)\n",
      "LDA: 0.785000 (0.020917)\n",
      "KNN: 0.756250 (0.029437)\n",
      "CART: 0.702000 (0.022605)\n",
      "NB: 0.793000 (0.025343)\n",
      "SVM: 0.792250 (0.025677)\n"
     ]
    }
   ],
   "source": [
    "# Spot Check Algorithms\n",
    "models = []\n",
    "models.append(('LR', LogisticRegression()))\n",
    "models.append(('LDA', LinearDiscriminantAnalysis()))\n",
    "models.append(('KNN', KNeighborsClassifier()))\n",
    "models.append(('CART', DecisionTreeClassifier()))\n",
    "models.append(('NB', GaussianNB()))\n",
    "models.append(('SVM', SVC()))\n",
    "# evaluate each model in turn\n",
    "results = []\n",
    "names = []\n",
    "for name, model in models:\n",
    "    kfold = model_selection.KFold(n_splits=10, random_state=seed)\n",
    "    cv_results = model_selection.cross_val_score(model, X_train, Y_train, cv=kfold, scoring=scoring)\n",
    "    results.append(cv_results)\n",
    "    names.append(name)\n",
    "    msg = \"%s: %f (%f)\" % (name, cv_results.mean(), cv_results.std())\n",
    "    print(msg)"
   ]
  },
  {
   "cell_type": "code",
   "execution_count": 16,
   "metadata": {},
   "outputs": [
    {
     "data": {
      "image/png": "[encoded data removed]",
      "text/plain": [
       "<matplotlib.figure.Figure at 0x13cfe06be10>"
      ]
     },
     "metadata": {},
     "output_type": "display_data"
    }
   ],
   "source": [
    "# Compare Algorithms\n",
    "fig = plt.figure()\n",
    "fig.suptitle('Algorithm Comparison')\n",
    "ax = fig.add_subplot(111)\n",
    "plt.boxplot(results)\n",
    "ax.set_xticklabels(names)\n",
    "plt.show()"
   ]
  },
  {
   "cell_type": "code",
   "execution_count": 17,
   "metadata": {},
   "outputs": [
    {
     "name": "stdout",
     "output_type": "stream",
     "text": [
      "0.764\n",
      "[[753  50]\n",
      " [186  11]]\n",
      "             precision    recall  f1-score   support\n",
      "\n",
      "        0.0       0.80      0.94      0.86       803\n",
      "        1.0       0.18      0.06      0.09       197\n",
      "\n",
      "avg / total       0.68      0.76      0.71      1000\n",
      "\n"
     ]
    }
   ],
   "source": [
    "# Make predictions on validation dataset\n",
    "knn = KNeighborsClassifier()\n",
    "knn.fit(X_train, Y_train)\n",
    "predictions = knn.predict(X_validation)\n",
    "print(accuracy_score(Y_validation, predictions))\n",
    "print(confusion_matrix(Y_validation, predictions))\n",
    "print(classification_report(Y_validation, predictions))"
   ]
  },
  {
   "cell_type": "code",
   "execution_count": null,
   "metadata": {},
   "outputs": [],
   "source": []
  },
  {
   "cell_type": "code",
   "execution_count": null,
   "metadata": {},
   "outputs": [],
   "source": []
  }
 ],
 "metadata": {
  "kernelspec": {
   "display_name": "Python 3",
   "language": "python",
   "name": "python3"
  },
  "language_info": {
   "codemirror_mode": {
    "name": "ipython",
    "version": 3
   },
   "file_extension": ".py",
   "mimetype": "text/x-python",
   "name": "python",
   "nbconvert_exporter": "python",
   "pygments_lexer": "ipython3",
   "version": "3.6.4"
  }
 },
 "nbformat": 4,
 "nbformat_minor": 2
}
