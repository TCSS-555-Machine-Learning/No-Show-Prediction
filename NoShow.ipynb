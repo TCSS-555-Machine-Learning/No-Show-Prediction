{
 "cells": [
  {
   "cell_type": "markdown",
   "metadata": {},
   "source": [
    "<h1><center>NoShow Project</h1>\n",
    "<h4>TCSS 555: Machine Learning<br>\n",
    "Spring 2018<br>\n",
    "Thuan Lam, Tood Robbins, Inno Estrera</h4></center>\n"
   ]
  },
  {
   "cell_type": "markdown",
   "metadata": {},
   "source": [
    "<h2>Libraries</h2>"
   ]
  },
  {
   "cell_type": "code",
   "execution_count": 22,
   "metadata": {},
   "outputs": [],
   "source": [
    "# Load libraries\n",
    "\n",
    "from datetime import datetime\n",
    "\n",
    "import matplotlib.pyplot as plt\n",
    "import pandas as pd\n",
    "import os\n",
    "from dateutil.parser import parse\n",
    "from sklearn import model_selection\n",
    "from sklearn.discriminant_analysis import LinearDiscriminantAnalysis\n",
    "from sklearn.linear_model import LogisticRegression\n",
    "from sklearn.metrics import accuracy_score\n",
    "from sklearn.metrics import classification_report\n",
    "from sklearn.metrics import confusion_matrix\n",
    "from sklearn.naive_bayes import GaussianNB\n",
    "from sklearn.neighbors import KNeighborsClassifier\n",
    "from sklearn.svm import SVC\n",
    "from sklearn.tree import DecisionTreeClassifier\n",
    "from sklearn.utils import shuffle"
   ]
  },
  {
   "cell_type": "markdown",
   "metadata": {},
   "source": [
    "## User Defined Functions"
   ]
  },
  {
   "cell_type": "code",
   "execution_count": 23,
   "metadata": {},
   "outputs": [],
   "source": [
    "# user-defined functions\n",
    "\n",
    "def get_gender_classification(gender):\n",
    "    if gender == 'F':\n",
    "        return 0\n",
    "    elif gender == 'M':\n",
    "        return 1\n",
    "    else:\n",
    "        return -1\n",
    "\n",
    "\n",
    "def get_noshow_classification(noshow):\n",
    "    if noshow == 'No':\n",
    "        return 0\n",
    "    elif noshow == 'Yes':\n",
    "        return 1\n",
    "    else:\n",
    "        return -1\n",
    "\n",
    "\n",
    "def get_handcap_classification(hand):\n",
    "    if hand < 3:\n",
    "        return 0\n",
    "    else:\n",
    "        return 1\n",
    "\n",
    "\n",
    "def get_days(sch, app):\n",
    "    a = app[0:10]\n",
    "    b = parse(a)\n",
    "    c = sch[0:10]\n",
    "    d = parse(c)\n",
    "    return b - d\n",
    "\n",
    "\n",
    "def get_age_classification(age):\n",
    "    if age < 4:\n",
    "        return 1\n",
    "    elif age < 12:\n",
    "        return 2\n",
    "    elif age < 31:\n",
    "        return 3\n",
    "    elif age < 45:\n",
    "        return 4\n",
    "    elif age < 63:\n",
    "        return 5\n",
    "    else:\n",
    "        return 6\n",
    "\n",
    "\n",
    "def add_data(row):\n",
    "    row.gender = get_gender_classification(row.gender)\n",
    "    row.noshow = get_noshow_classification(row.noshow)\n",
    "    # row.neighbourhood = get_neighbourhood_classification(row.neighbourhood)\n",
    "    row.agegroup = get_age_classification(row.age)\n",
    "    row.handcapgroup = get_handcap_classification(row.handcap)\n",
    "    day1 = parse(row.scheduledday[0:10])\n",
    "    day2 = parse(row.appointmentday[0:10])\n",
    "    row.daysbefore = (day2 - day1).days\n",
    "    row.appointmentdayofweek = datetime.weekday(day2)\n",
    "    return row"
   ]
  },
  {
   "cell_type": "markdown",
   "metadata": {},
   "source": [
    "## Load Data"
   ]
  },
  {
   "cell_type": "code",
   "execution_count": 24,
   "metadata": {},
   "outputs": [
    {
     "name": "stdout",
     "output_type": "stream",
     "text": [
      "Current folder is C:\\Users\\toddr\\Desktop\\No-Show-Prediction\n"
     ]
    }
   ],
   "source": [
    "# import os\n",
    "cwd = os.getcwd()\n",
    "print('Current folder is {}'.format(cwd))"
   ]
  },
  {
   "cell_type": "code",
   "execution_count": 25,
   "metadata": {},
   "outputs": [
    {
     "name": "stdout",
     "output_type": "stream",
     "text": [
      "Dataset: 110527 rows and 14 columns\n"
     ]
    }
   ],
   "source": [
    "# Load dataset\n",
    "data = pd.read_csv(\"Data\\KaggleV2-May-2016.csv\")\n",
    "data = shuffle(data)\n",
    "# data = data[:7000]  #get first 5000 rows\n",
    "\n",
    "# Lower case all column header\n",
    "data.columns = [x.lower() for x in data.columns]\n",
    "\n",
    "# Rename several DataFrame columns\n",
    "data = data.rename(columns = {\n",
    "    'sms_received' : 'smsreceived',\n",
    "    'no-show':'noshow',\n",
    "})\n",
    "\n",
    "# Dimensions of dataset\n",
    "print('Dataset: {} rows and {} columns'.format(data.shape[0], data.shape[1]))"
   ]
  },
  {
   "cell_type": "markdown",
   "metadata": {},
   "source": [
    "## Preprocess Data\n",
    "* <h3>Add Columns"
   ]
  },
  {
   "cell_type": "code",
   "execution_count": 26,
   "metadata": {},
   "outputs": [
    {
     "name": "stdout",
     "output_type": "stream",
     "text": [
      "Datasets shape: (110527, 14)\n",
      "          patientid  appointmentid gender          scheduledday  \\\n",
      "94855  9.781157e+12        5735420      F  2016-05-25T07:07:36Z   \n",
      "44404  7.714252e+13        5649625      F  2016-05-03T07:05:58Z   \n",
      "\n",
      "             appointmentday  appointmentdayofweek  daysbefore  age  agegroup  \\\n",
      "94855  2016-06-01T00:00:00Z                     0           0   49         0   \n",
      "44404  2016-05-03T00:00:00Z                     0           0   37         0   \n",
      "\n",
      "          neighbourhood  neighbourhoodgroup  scholarship  hipertension  \\\n",
      "94855  ILHA DO PRÍNCIPE                   0            1             1   \n",
      "44404       MARIA ORTIZ                   0            0             0   \n",
      "\n",
      "       diabetes  alcoholism  handcap  handcapgroup  smsreceived noshow  \n",
      "94855         0           0        0             0            1     No  \n",
      "44404         0           0        0             0            0     No  \n"
     ]
    }
   ],
   "source": [
    "# shape\n",
    "print('Dataset''s shape: {}'.format(data.shape))\n",
    "\n",
    "# add 3 columns those will hold the classification results\n",
    "data.insert(5, 'daysbefore', 0) #how many days from scheduled day to appointment day\n",
    "data.insert(5, 'appointmentdayofweek', 0)  #what is the day of week of the appointment day\n",
    "data.insert(8, 'agegroup', 0)\n",
    "data.insert(10, 'neighbourhoodgroup', 0)\n",
    "data.insert(16, 'handcapgroup', 0)\n",
    "\n",
    "# head\n",
    "print(data.head(2))\n",
    "\n",
    "# descriptions\n",
    "# print(data.describe())"
   ]
  },
  {
   "cell_type": "markdown",
   "metadata": {},
   "source": [
    "* <h3>Apply user-defined function"
   ]
  },
  {
   "cell_type": "code",
   "execution_count": null,
   "metadata": {},
   "outputs": [],
   "source": [
    "data = data.apply(lambda row: add_data(row), axis=1)\n",
    "\n",
    "# keep rows those have 'daysbefore' >= 0, otherwise, delete\n",
    "data = data.loc[data['daysbefore'] >= 0]\n",
    "# keep rows those have 'age' >= 0, delete if age < 0\n",
    "data = data.loc[data['age'] >= 0]"
   ]
  },
  {
   "cell_type": "code",
   "execution_count": null,
   "metadata": {},
   "outputs": [],
   "source": [
    "print(data.head(2))"
   ]
  },
  {
   "cell_type": "code",
   "execution_count": null,
   "metadata": {},
   "outputs": [],
   "source": [
    "# data.groupby(['daysbefore']).size().reset_index(name='daysbefore_counts')"
   ]
  },
  {
   "cell_type": "code",
   "execution_count": null,
   "metadata": {},
   "outputs": [],
   "source": [
    "# n_groups = 1\n",
    "# row_0 = g[g['gender'] == 0]['gender_percent']\n",
    "# row_1 = g[g['gender'] == 1]['gender_percent']\n",
    "# print(row_1)\n",
    "# # create plot\n",
    "# fig, ax = plt.subplots()\n",
    "# index = np.arange(n_groups)\n",
    "# bar_width = 1\n",
    "# opacity = 0.8\n",
    " \n",
    "# rects1 = plt.bar(0, row_0, bar_width,\n",
    "#                  alpha=opacity,\n",
    "#                  color='g',\n",
    "#                  label='Female')\n",
    "# rects2 = plt.bar(index + bar_width, row_1, bar_width,\n",
    "#                  alpha=opacity,\n",
    "#                  color='b',\n",
    "#                  label='Male')\n",
    " \n",
    "# plt.xlabel('Gender')\n",
    "# plt.ylabel('%')\n",
    "# plt.title('No-Show Percentage')\n",
    "# # plt.xticks(index + bar_width, ('Gender'))\n",
    "# plt.legend()\n",
    " \n",
    "# plt.tight_layout()\n",
    "# plt.show()"
   ]
  },
  {
   "cell_type": "markdown",
   "metadata": {},
   "source": [
    "## Data Analysis & Visual Representation"
   ]
  },
  {
   "cell_type": "code",
   "execution_count": null,
   "metadata": {
    "scrolled": true
   },
   "outputs": [],
   "source": [
    "noshow_only = data[data['noshow']==1]\n",
    "\n",
    "fig, axes = plt.subplots(nrows=2, ncols=4, figsize=(15,15))\n",
    "fig.tight_layout() # Or equivalently,  \"plt.tight_layout()\"\n",
    "fig.set_size_inches(20, 10)\n",
    "plt.subplots_adjust(wspace=1, hspace=1)\n",
    "\n",
    "# Gender\n",
    "g = noshow_only.groupby(['gender']).size().reset_index(name='gender_noshow_counts')\n",
    "g['gender_counts'] = data.groupby(['gender']).size().reset_index(name='gender_counts')['gender_counts']\n",
    "g['gender_percent'] = g.apply(lambda row: row.gender_noshow_counts / row.gender_counts * 100, axis=1)\n",
    "g = g.drop(columns=['gender_noshow_counts','gender_counts'])\n",
    "g.iloc[0, g.columns.get_loc('gender')] = 'Female'\n",
    "g.iloc[1, g.columns.get_loc('gender')] = 'Male'\n",
    "g = g.set_index('gender')\n",
    "g.plot.bar(subplots=True, legend=None, ax=axes[0,0], rot=0, fontsize=12)\n",
    "\n",
    "# Scholarship\n",
    "s = noshow_only.groupby(['scholarship']).size().reset_index(name='scholarship_noshow_counts')\n",
    "s['scholarship_counts'] = data.groupby(['scholarship']).size().reset_index(name='scholarship_counts')['scholarship_counts']\n",
    "s['scholarship_percent'] = s.apply(lambda row: row.scholarship_noshow_counts / row.scholarship_counts * 100, axis=1)\n",
    "s = s.drop(columns=['scholarship_noshow_counts','scholarship_counts'])\n",
    "s.iloc[0, s.columns.get_loc('scholarship')] = 'No'\n",
    "s.iloc[1, s.columns.get_loc('scholarship')] = 'Yes'\n",
    "s = s.set_index('scholarship')\n",
    "s.plot.bar(subplots=True, legend=None, ax=axes[0,1], rot=0, figsize=(15,10), fontsize=12)\n",
    "\n",
    "# Hipertension  \n",
    "h = noshow_only.groupby(['hipertension']).size().reset_index(name='hipertension_noshow_counts')\n",
    "h['hipertension_counts'] = data.groupby(['hipertension']).size().reset_index(name='hipertension_counts')['hipertension_counts']\n",
    "h['hipertension_percent'] = h.apply(lambda row: row.hipertension_noshow_counts / row.hipertension_counts * 100, axis=1)\n",
    "h = h.drop(columns=['hipertension_noshow_counts','hipertension_counts'])\n",
    "h.iloc[0, h.columns.get_loc('hipertension')] = 'No'\n",
    "h.iloc[1, h.columns.get_loc('hipertension')] = 'Yes'\n",
    "h = h.set_index('hipertension')\n",
    "h.plot.bar(subplots=True, legend=None, ax=axes[0,2], rot=0, figsize=(15,10), fontsize=12)\n",
    "\n",
    "# Diabetes\n",
    "d = noshow_only.groupby(['diabetes']).size().reset_index(name='diabetes_noshow_counts')\n",
    "d['diabetes_counts'] = data.groupby(['diabetes']).size().reset_index(name='diabetes_counts')['diabetes_counts']\n",
    "d['diabetes_percent'] = d.apply(lambda row: row.diabetes_noshow_counts / row.diabetes_counts * 100, axis=1)\n",
    "d = d.drop(columns=['diabetes_noshow_counts','diabetes_counts'])\n",
    "d.iloc[0, d.columns.get_loc('diabetes')] = 'No'\n",
    "d.iloc[1, d.columns.get_loc('diabetes')] = 'Yes'\n",
    "d = d.set_index('diabetes')\n",
    "d.plot.bar(subplots=True, legend=None, ax=axes[0,3], rot=0, figsize=(15,10), fontsize=12)\n",
    "\n",
    "# Alcoholism\n",
    "a = noshow_only.groupby(['alcoholism']).size().reset_index(name='alcoholism_noshow_counts')\n",
    "a['alcoholism_counts'] = data.groupby(['alcoholism']).size().reset_index(name='alcoholism_counts')['alcoholism_counts']\n",
    "a['alcoholism_percent'] = a.apply(lambda row: row.alcoholism_noshow_counts / row.alcoholism_counts * 100, axis=1)\n",
    "a = a.drop(columns=['alcoholism_noshow_counts','alcoholism_counts'])\n",
    "a.iloc[0, a.columns.get_loc('alcoholism')] = 'No'\n",
    "a.iloc[1, a.columns.get_loc('alcoholism')] = 'Yes'\n",
    "a = a.set_index('alcoholism')\n",
    "a.plot.bar(subplots=True, legend=None, ax=axes[1,0], rot=0, figsize=(15,10), fontsize=12)\n",
    "\n",
    "# Handcap\n",
    "c = noshow_only.groupby(['handcap']).size().reset_index(name='handcap_noshow_counts')\n",
    "c['handcap_counts'] = data.groupby(['handcap']).size().reset_index(name='handcap_counts')['handcap_counts']\n",
    "c['handcap_percent'] = c.apply(lambda row: row.handcap_noshow_counts / row.handcap_counts * 100, axis=1)\n",
    "c = c.drop(columns=['handcap_noshow_counts','handcap_counts'])\n",
    "c = c.set_index('handcap')\n",
    "c.plot.bar(subplots=True, legend=None, ax=axes[1,1], rot=0, figsize=(15,10), fontsize=12)\n",
    "\n",
    "# Sms Received\n",
    "s = noshow_only.groupby(['smsreceived']).size().reset_index(name='smsreceived_noshow_counts')\n",
    "s['smsreceived_counts'] = data.groupby(['smsreceived']).size().reset_index(name='smsreceived_counts')['smsreceived_counts']\n",
    "s['smsreceived_percent'] = s.apply(lambda row: row.smsreceived_noshow_counts / row.smsreceived_counts * 100, axis=1)\n",
    "s = s.drop(columns=['smsreceived_noshow_counts','smsreceived_counts'])\n",
    "s.iloc[0, s.columns.get_loc('smsreceived')] = 'No'\n",
    "s.iloc[1, s.columns.get_loc('smsreceived')] = 'Yes'\n",
    "s = s.set_index('smsreceived')\n",
    "s.plot.bar(subplots=True, legend=None, ax=axes[1,2], rot=0, figsize=(15,10), fontsize=12)\n",
    "\n",
    "# age\n",
    "age1 = noshow_only.groupby(['age']).size().reset_index(name='age_noshow_counts')\n",
    "age2 = data.groupby(['age']).size().reset_index(name='age_counts')\n",
    "# show all records from data\n",
    "age = pd.merge(age1, age2, on='age', how='right').fillna(0)\n",
    "age['age_percent'] = age.apply(lambda row: row.age_noshow_counts / row.age_counts * 10000, axis=1)\n",
    "age = age.drop(columns=['age_noshow_counts'])\n",
    "# age = age.drop(columns=['age_noshow_counts','age_counts'])\n",
    "age = age.set_index('age')\n",
    "age.plot.bar(legend=True, rot=0, figsize=(15,10), fontsize=12)\n",
    "\n",
    "# daysbefore\n",
    "b1 = noshow_only.groupby(['daysbefore']).size().reset_index(name='daysbefore_noshow_counts')\n",
    "b2 = data.groupby(['daysbefore']).size().reset_index(name='daysbefore_counts')\n",
    "# show all records from data\n",
    "b = pd.merge(b1, b2, on='daysbefore', how='right').fillna(0)\n",
    "b['daysbefore_percent'] = b.apply(lambda row: row.daysbefore_noshow_counts / row.daysbefore_counts * 100, axis=1)\n",
    "b = b.drop(columns=['daysbefore_noshow_counts','daysbefore_counts'])\n",
    "b = b.set_index('daysbefore')\n",
    "b.plot.bar(legend=True, rot=0, figsize=(15,10), fontsize=12)\n",
    "\n",
    "# neighbourhood\n",
    "n1 = noshow_only.groupby(['neighbourhood']).size().reset_index(name='neighbourhood_noshow_counts')\n",
    "n2 = data.groupby(['neighbourhood']).size().reset_index(name='neighbourhood_counts')\n",
    "# show all records from data\n",
    "n = pd.merge(n1, n2, on='neighbourhood', how='right').fillna(0)\n",
    "n['neighbourhood_percent'] = n.apply(lambda row: row.neighbourhood_noshow_counts / row.neighbourhood_counts * 1000, axis=1)\n",
    "n['neighbourhood_group'] = n.apply(lambda row: row.neighbourhood_percent // 5, axis=1)\n",
    "# n = n.drop(columns=['neighbourhood_noshow_counts','neighbourhood_counts']).sort_values(by=['neighbourhood_percent'])\n",
    "n = n.drop(columns=['neighbourhood_counts']).sort_values(by=['neighbourhood_percent'])\n",
    "n = n.set_index('neighbourhood')\n",
    "n.plot.bar(legend=True, rot=0, figsize=(15,10), fontsize=12)\n",
    "# print(n.head(50));\n",
    "# print(data.groupby(['scholarship']).size().reset_index(name='counts'))\n",
    "# print(data.groupby(['hipertension']).size().reset_index(name='counts'))\n",
    "# print(data.groupby(['diabetes']).size().reset_index(name='counts'))\n",
    "# print(data.groupby(['alcoholism']).size().reset_index(name='counts'))\n",
    "# print(data.groupby(['handcap']).size().reset_index(name='counts'))\n",
    "# print(data.groupby(['smsreceived']).size().reset_index(name='counts'))\n",
    "\n",
    "# d1 = pd.pivot_table(data,index=['noshow'],values=['gender'],aggfunc='count')\n",
    "# print(d1)"
   ]
  },
  {
   "cell_type": "code",
   "execution_count": null,
   "metadata": {},
   "outputs": [],
   "source": [
    "nh = n.drop(columns=['neighbourhood_noshow_counts']).sort_values(by=['neighbourhood_percent'])\n",
    "# print(neighbourhood.head(5))\n",
    "\n",
    "# print(nh.head(5))\n",
    "data['neighbourhoodgroup'] = data['neighbourhood'].map(lambda xx: nh.loc[xx]['neighbourhood_group'])\n",
    "# print (neighbourhood.loc[neighbourhood['neighbourhood'] == ne][neighbourhood_group])\n",
    "\n",
    "# print(data.head(150))\n",
    "\n",
    "# xxx = nh.loc['PONTAL DE CAMBURI']['neighbourhood_group']\n",
    "# print(xxx)\n",
    "\n",
    "# get_neighbourhood_classification('PONTAL DE CAMBURI')\n",
    "# neighbourhood = n.index.tolist()\n",
    "# print(neighbourhood)"
   ]
  },
  {
   "cell_type": "code",
   "execution_count": null,
   "metadata": {},
   "outputs": [],
   "source": [
    "# data = data.apply(lambda row: change_neighbourhood(row), axis=1)\n",
    "# print(data.head(5))"
   ]
  },
  {
   "cell_type": "markdown",
   "metadata": {},
   "source": [
    "* <h3>Drop Columns"
   ]
  },
  {
   "cell_type": "code",
   "execution_count": null,
   "metadata": {},
   "outputs": [],
   "source": [
    "# drop columns that we have calculated and get results on new columns\n",
    "for x in data.columns:\n",
    "    # if not useful information drop\n",
    "    if x != 'patientid' or x != 'agegroup' or x != 'daysbefore' or x != 'diabetes' or x != 'scholarship' or x != 'hipertension' or x != 'smsreceived':\n",
    "        data.drop(x, axis=1, inplace=True)  # axis=1 means apply for each row\n",
    "        \n",
    "# drop columns that we have calculated and get results on new columns\n",
    "# data.drop('appointmentid', axis=1, inplace=True) #axis=1 means apply for each row\n",
    "# data.drop('appointmentday', axis=1, inplace=True)#axis=1 means apply for each row\n",
    "# data.drop('scheduledday', axis=1, inplace=True) #axis=1 means apply for each row\n",
    "# data.drop('appointmentdayofweek', axis=1, inplace=True) #axis=1 means apply for each row \n",
    "# data.drop('age', axis=1, inplace=True) #axis=1 means apply for each row \n",
    "# data.drop('neighbourhood', axis=1, inplace=True) #axis=1 means apply for each row \n",
    "# data.drop('handcap', axis=1, inplace=True) #axis=1 means apply for each row\n",
    "\n",
    "# useless data\n",
    "# data.drop('alcoholism', axis=1, inplace=True) #axis=1 means apply for each row\n",
    "# data.drop('gender', axis=1, inplace=True) #axis=1 means apply for each row\n",
    "\n",
    "\n",
    "# data.drop('patientid', axis=1, inplace=True)\n",
    "# data.drop('agegroup', axis=1, inplace=True) #axis=1 means apply for each row \n",
    "# data.drop('neighbourhoodgroup', axis=1, inplace=True) #axis=1 means apply for each row \n",
    "# data.drop('daysbefore', axis=1, inplace=True) #axis=1 means apply for each row \n",
    "# data.drop('diabetes', axis=1, inplace=True) #axis=1 means apply for each row\n",
    "# data.drop('scholarship', axis=1, inplace=True) #axis=1 means apply for each row\n",
    "# data.drop('hipertension', axis=1, inplace=True) #axis=1 means apply for each row\n",
    "# data.drop('handcapgroup', axis=1, inplace=True) #axis=1 means apply for each row\n",
    "# data.drop('smsreceived', axis=1, inplace=True) #axis=1 means apply for each row"
   ]
  },
  {
   "cell_type": "code",
   "execution_count": null,
   "metadata": {},
   "outputs": [],
   "source": [
    "# checking\n",
    "print(data.head(2))\n",
    "print('n = {} and p = {}'.format(data.shape[0], data.shape[1]))"
   ]
  },
  {
   "cell_type": "markdown",
   "metadata": {},
   "source": [
    "## Model"
   ]
  },
  {
   "cell_type": "code",
   "execution_count": null,
   "metadata": {},
   "outputs": [],
   "source": [
    "# Split-out validation dataset (No-show column only)\n",
    "col = len(data.columns) - 1\n",
    "array = data.values   #numpy array\n",
    "X = array[:,0:col]#numpy array - 11 first columns\n",
    "Y = array[:,col]  #numpy array - the 12st column\n",
    "# print(X[0:2,])  #print top 2 rows\n",
    "# print(Y[0:2,])  #print top 2 rows\n",
    "# print(X.size)"
   ]
  },
  {
   "cell_type": "code",
   "execution_count": null,
   "metadata": {},
   "outputs": [],
   "source": [
    "validation_size = 0.20\n",
    "seed = 7\n",
    "X_train, X_validation, Y_train, Y_validation = model_selection.train_test_split(X, Y, test_size=validation_size, random_state=seed)\n",
    "\n",
    "# print('{}'.format(X_train, Y_train))"
   ]
  },
  {
   "cell_type": "code",
   "execution_count": null,
   "metadata": {},
   "outputs": [],
   "source": [
    "validation_size = 0.20\n",
    "seed = 7\n",
    "X_train, X_validation, Y_train, Y_validation = model_selection.train_test_split(X, Y, test_size=validation_size, random_state=seed)\n",
    "\n",
    "# print('{}'.format(X_train, Y_train))"
   ]
  },
  {
   "cell_type": "code",
   "execution_count": null,
   "metadata": {},
   "outputs": [],
   "source": [
    "# Test options and evaluation metric\n",
    "seed = 7\n",
    "scoring = 'accuracy'\n",
    "\n",
    "# Spot Check Algorithms\n",
    "models = []\n",
    "models.append(('LR', LogisticRegression()))\n",
    "models.append(('LDA', LinearDiscriminantAnalysis()))\n",
    "models.append(('KNN', KNeighborsClassifier()))\n",
    "models.append(('CART', DecisionTreeClassifier()))\n",
    "models.append(('NB', GaussianNB()))\n",
    "models.append(('SVM', SVC()))\n",
    "\n",
    "# evaluate each model in turn\n",
    "results = []\n",
    "names = []\n",
    "for name, model in models:\n",
    "    kfold = model_selection.KFold(n_splits=10, random_state=seed)\n",
    "    cv_results = model_selection.cross_val_score(model, X_train, Y_train, cv=kfold, scoring=scoring)\n",
    "    results.append(cv_results)\n",
    "    names.append(name)\n",
    "    msg = \"%s: %f (%f)\" % (name, cv_results.mean(), cv_results.std())\n",
    "    print(msg)"
   ]
  },
  {
   "cell_type": "code",
   "execution_count": null,
   "metadata": {},
   "outputs": [],
   "source": [
    "# Compare Algorithms\n",
    "fig = plt.figure()\n",
    "fig.suptitle('Algorithm Comparison')\n",
    "ax = fig.add_subplot(111)\n",
    "plt.boxplot(results)\n",
    "ax.set_xticklabels(names)\n",
    "plt.show()"
   ]
  },
  {
   "cell_type": "code",
   "execution_count": null,
   "metadata": {},
   "outputs": [],
   "source": [
    "# Make predictions on validation dataset\n",
    "knn = KNeighborsClassifier()\n",
    "knn.fit(X_train, Y_train)\n",
    "predictions = knn.predict(X_validation)\n",
    "# lr = LogisticRegression()\n",
    "# lr.fit(X_train, Y_train)\n",
    "# predictions = lr.predict(X_validation)\n",
    "print(predictions)\n",
    "print(accuracy_score(Y_validation, predictions))\n",
    "print(confusion_matrix(Y_validation, predictions))\n",
    "print(classification_report(Y_validation, predictions))"
   ]
  },
  {
   "cell_type": "markdown",
   "metadata": {},
   "source": [
    "## Conclusion\n",
    "#### From the prediction models presented (LR, LDA, KNN, CART, NB, and SVM) our best predictions of the binary classification of No-Shows reach a maximum of approximately 80%. and for this particular data set, the LR & SVM models produced the highest accuracy. Any future improvments would be spent on data thresholds for determining when to drop a \"non-useful\" data column. For Now, visual representation of the data are analyzed giving the developer to determine this information for themselves. "
   ]
  }
 ],
 "metadata": {
  "kernelspec": {
   "display_name": "Python 3",
   "language": "python",
   "name": "python3"
  },
  "language_info": {
   "codemirror_mode": {
    "name": "ipython",
    "version": 3
   },
   "file_extension": ".py",
   "mimetype": "text/x-python",
   "name": "python",
   "nbconvert_exporter": "python",
   "pygments_lexer": "ipython3",
   "version": "3.6.4"
  }
 },
 "nbformat": 4,
 "nbformat_minor": 2
}
