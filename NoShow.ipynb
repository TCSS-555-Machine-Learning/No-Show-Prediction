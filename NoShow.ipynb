{
 "cells": [
  {
   "cell_type": "markdown",
   "metadata": {},
   "source": [
    "<h1><center>NoShow Project</h1>\n",
    "<h4>TCSS 555<br>\n",
    "Spring 2018<br>\n",
    "Thuan Lam, Tood Robbins, xxx</h4></center>\n"
   ]
  },
  {
   "cell_type": "markdown",
   "metadata": {},
   "source": [
    "<h2>Libraries</h2>"
   ]
  },
  {
   "cell_type": "code",
   "execution_count": 1,
   "metadata": {},
   "outputs": [],
   "source": [
    "# Load libraries\n",
    "\n",
    "import numpy as np\n",
    "import pandas as pd\n",
    "import matplotlib.pyplot as plt\n",
    "\n",
    "from datetime import datetime\n",
    "from dateutil.parser import parse\n",
    "from pandas.plotting import scatter_matrix\n",
    "from sklearn.utils import shuffle\n",
    "from sklearn.preprocessing import MinMaxScaler\n",
    "from sklearn import model_selection\n",
    "from sklearn.metrics import classification_report\n",
    "from sklearn.metrics import confusion_matrix\n",
    "from sklearn.metrics import accuracy_score\n",
    "from sklearn.linear_model import LogisticRegression\n",
    "from sklearn.tree import DecisionTreeClassifier\n",
    "from sklearn.neighbors import KNeighborsClassifier\n",
    "from sklearn.discriminant_analysis import LinearDiscriminantAnalysis\n",
    "from sklearn.naive_bayes import GaussianNB\n",
    "from sklearn.svm import SVC"
   ]
  },
  {
   "cell_type": "markdown",
   "metadata": {},
   "source": [
    "## User Difined Functions"
   ]
  },
  {
   "cell_type": "code",
   "execution_count": 2,
   "metadata": {},
   "outputs": [],
   "source": [
    "# user-defined functions\n",
    "\n",
    "def get_gender_classification(gender):\n",
    "    if gender == 'F':\n",
    "        return 0\n",
    "    elif gender == 'M':\n",
    "        return 1\n",
    "    else:\n",
    "        return -1\n",
    "    \n",
    "def get_noshow_classification(noshow):\n",
    "    if noshow == 'No':\n",
    "        return 0\n",
    "    elif noshow == 'Yes':\n",
    "        return 1\n",
    "    else:\n",
    "        return -1\n",
    "    \n",
    "def get_neighbourhood_classification(neighbour):\n",
    "    i, = np.where(neighbourhood == neighbour)\n",
    "    return i[0]\n",
    "\n",
    "def get_days(sch , app):\n",
    "    a = app[0:10]\n",
    "    b = parse(a)    \n",
    "    c = sch[0:10]\n",
    "    d = parse(c)\n",
    "    return (b - d)\n",
    "\n",
    "def get_age_classification(age):\n",
    "    if (age<=1):\n",
    "        return age\n",
    "    elif (age<65):\n",
    "        return 2\n",
    "    else:\n",
    "        return 3\n",
    "\n",
    "def add_data(row):\n",
    "    row.gender = get_gender_classification(row.gender)\n",
    "    row.noshow = get_noshow_classification(row.noshow)\n",
    "    row.neighbourhood = get_neighbourhood_classification(row.neighbourhood)\n",
    "    row.agegroup = get_age_classification(row.age)\n",
    "    day1 = parse(row.scheduledday[0:10])\n",
    "    day2 = parse(row.appointmentday[0:10])\n",
    "    row.daysbefore = (day2 - day1).days\n",
    "    row.appointmentdayofweek = datetime.weekday(day2)\n",
    "    return row"
   ]
  },
  {
   "cell_type": "markdown",
   "metadata": {},
   "source": [
    "## Load Data"
   ]
  },
  {
   "cell_type": "code",
   "execution_count": 3,
   "metadata": {},
   "outputs": [
    {
     "name": "stdout",
     "output_type": "stream",
     "text": [
      "Current folder is C:\\Thuan\\ML\\Projects\\NoShow\n"
     ]
    }
   ],
   "source": [
    "import os \n",
    "cwd = os.getcwd()\n",
    "print('Current folder is {}'.format(cwd))"
   ]
  },
  {
   "cell_type": "code",
   "execution_count": 4,
   "metadata": {},
   "outputs": [
    {
     "name": "stdout",
     "output_type": "stream",
     "text": [
      "n = 110527 and p = 14\n"
     ]
    }
   ],
   "source": [
    "# Load dataset\n",
    "data = pd.read_csv(\"Data\\KaggleV2-May-2016.csv\")\n",
    "data = shuffle(data)\n",
    "# data = data[:5000]  #get first 5000 rows\n",
    "\n",
    "# Dimensions of dataset\n",
    "n = data.shape[0] #rows\n",
    "p = data.shape[1] #columns\n",
    "\n",
    "# Lower case all column header\n",
    "data.columns = [x.lower() for x in data.columns]\n",
    "\n",
    "# Rename several DataFrame columns\n",
    "data = data.rename(columns = {\n",
    "    'sms_received' : 'smsreceived',\n",
    "    'no-show':'noshow',\n",
    "})\n",
    "\n",
    "print('n = {} and p = {}'.format(n, p))"
   ]
  },
  {
   "cell_type": "markdown",
   "metadata": {},
   "source": [
    "## Preprocess Data\n",
    "* <h3>Add Columns"
   ]
  },
  {
   "cell_type": "code",
   "execution_count": 5,
   "metadata": {},
   "outputs": [
    {
     "name": "stdout",
     "output_type": "stream",
     "text": [
      "Datasets shape: (110527, 14)\n",
      "          patientid  appointmentid gender          scheduledday  \\\n",
      "12142  3.319548e+10        5646616      F  2016-05-02T11:33:08Z   \n",
      "91429  4.123926e+13        5619423      F  2016-04-26T07:59:31Z   \n",
      "\n",
      "             appointmentday  appointmentdayofweek  daysbefore  age  \\\n",
      "12142  2016-05-02T00:00:00Z                     0           0   33   \n",
      "91429  2016-06-02T00:00:00Z                     0           0   65   \n",
      "\n",
      "      neighbourhood  agegroup  scholarship  hipertension  diabetes  \\\n",
      "12142  SANTA TEREZA         0            0             0         0   \n",
      "91429    TABUAZEIRO         0            0             1         0   \n",
      "\n",
      "       alcoholism  handcap  smsreceived noshow  \n",
      "12142           0        1            0     No  \n",
      "91429           0        0            1     No  \n"
     ]
    }
   ],
   "source": [
    "# shape\n",
    "print('Dataset''s shape: {}'.format(data.shape))\n",
    "\n",
    "# add 2 columns\n",
    "data.insert(7, 'agegroup', 0)\n",
    "data.insert(5, 'daysbefore', 0) #how many days from scheduled day to appointment day\n",
    "data.insert(5, 'appointmentdayofweek', 0)  #what is the day of week of the appointment day\n",
    "\n",
    "# head\n",
    "print(data.head(2))\n",
    "\n",
    "# descriptions\n",
    "# print(data.describe())"
   ]
  },
  {
   "cell_type": "markdown",
   "metadata": {},
   "source": [
    "* <h3>Apply user-defined function"
   ]
  },
  {
   "cell_type": "code",
   "execution_count": 6,
   "metadata": {},
   "outputs": [
    {
     "name": "stdout",
     "output_type": "stream",
     "text": [
      "['SANTA TEREZA' 'TABUAZEIRO' 'SÃO BENEDITO' 'JESUS DE NAZARETH'\n",
      " 'FRADINHOS' 'JARDIM CAMBURI' 'ILHA DE SANTA MARIA' 'BELA VISTA'\n",
      " 'SANTA MARTHA' 'GRANDE VITÓRIA' 'ROMÃO' 'ILHA DAS CAIEIRAS' 'VILA RUBIM'\n",
      " 'RESISTÊNCIA' 'JOANA D´ARC' 'SANTOS REIS' 'FONTE GRANDE'\n",
      " 'JARDIM DA PENHA' 'GURIGICA' 'DA PENHA' 'ITARARÉ' 'SÃO PEDRO' 'REPÚBLICA'\n",
      " 'UNIVERSITÁRIO' 'MÁRIO CYPRESTE' 'SANTO ANDRÉ' 'SANTO ANTÔNIO' 'BONFIM'\n",
      " 'GOIABEIRAS' 'SÃO JOSÉ' 'BARRO VERMELHO' 'ILHA DO PRÍNCIPE' 'ANDORINHAS'\n",
      " 'JUCUTUQUARA' 'DO QUADRO' 'DE LOURDES' 'CONQUISTA' 'JABOUR' 'ESTRELINHA'\n",
      " 'NOVA PALESTINA' 'MARIA ORTIZ' 'BENTO FERREIRA' 'SÃO CRISTÓVÃO'\n",
      " 'CARATOÍRA' 'SANTA CECÍLIA' 'REDENÇÃO' 'DO CABRAL' 'CENTRO'\n",
      " 'PONTAL DE CAMBURI' 'FORTE SÃO JOÃO' 'MONTE BELO' 'INHANGUETÁ'\n",
      " 'SANTA LÚCIA' 'NAZARETH' 'MARUÍPE' 'SANTA LUÍZA' 'ENSEADA DO SUÁ'\n",
      " 'SANTOS DUMONT' 'COMDUSA' 'CRUZAMENTO' 'BOA VISTA' 'PRAIA DO SUÁ'\n",
      " 'PRAIA DO CANTO' 'PARQUE MOSCOSO' 'ARIOVALDO FAVALESSA' 'SOLON BORGES'\n",
      " 'ANTÔNIO HONÓRIO' 'DO MOSCOSO' 'HORTO' 'CONSOLAÇÃO' 'PIEDADE'\n",
      " 'MATA DA PRAIA' 'SANTA CLARA' 'SANTA HELENA' 'MORADA DE CAMBURI'\n",
      " 'ILHA DO BOI' 'SEGURANÇA DO LAR' 'AEROPORTO' 'ILHA DO FRADE'\n",
      " 'ILHAS OCEÂNICAS DE TRINDADE' 'PARQUE INDUSTRIAL']\n"
     ]
    }
   ],
   "source": [
    "neighbourhood = data.neighbourhood.unique()\n",
    "print(neighbourhood)"
   ]
  },
  {
   "cell_type": "code",
   "execution_count": 7,
   "metadata": {},
   "outputs": [],
   "source": [
    "data = data.apply(lambda row: add_data(row), axis=1)\n",
    "\n",
    "# keep rows those have 'daysbefore' >= 0\n",
    "data = data.loc[data['daysbefore'] >= 0]"
   ]
  },
  {
   "cell_type": "code",
   "execution_count": 8,
   "metadata": {},
   "outputs": [
    {
     "name": "stdout",
     "output_type": "stream",
     "text": [
      "          patientid  appointmentid  gender          scheduledday  \\\n",
      "12142  3.319548e+10        5646616       0  2016-05-02T11:33:08Z   \n",
      "91429  4.123926e+13        5619423       0  2016-04-26T07:59:31Z   \n",
      "63460  2.321247e+13        5678400       0  2016-05-10T08:28:15Z   \n",
      "86920  9.936876e+13        5702029       0  2016-05-16T11:20:34Z   \n",
      "85070  5.331798e+11        5781282       1  2016-06-07T09:16:11Z   \n",
      "\n",
      "             appointmentday  appointmentdayofweek  daysbefore  age  \\\n",
      "12142  2016-05-02T00:00:00Z                     0           0   33   \n",
      "91429  2016-06-02T00:00:00Z                     3          37   65   \n",
      "63460  2016-05-10T00:00:00Z                     1           0   23   \n",
      "86920  2016-06-08T00:00:00Z                     2          23    8   \n",
      "85070  2016-06-08T00:00:00Z                     2           1   65   \n",
      "\n",
      "       neighbourhood  agegroup  scholarship  hipertension  diabetes  \\\n",
      "12142              0         2            0             0         0   \n",
      "91429              1         3            0             1         0   \n",
      "63460              2         2            0             0         0   \n",
      "86920              3         2            1             0         0   \n",
      "85070              4         3            0             0         0   \n",
      "\n",
      "       alcoholism  handcap  smsreceived  noshow  \n",
      "12142           0        1            0       0  \n",
      "91429           0        0            1       0  \n",
      "63460           0        0            0       0  \n",
      "86920           0        0            1       0  \n",
      "85070           0        0            0       0  \n"
     ]
    }
   ],
   "source": [
    "print(data.head(5))"
   ]
  },
  {
   "cell_type": "code",
   "execution_count": 9,
   "metadata": {},
   "outputs": [],
   "source": [
    "# data.groupby(['daysbefore']).size().reset_index(name='daysbefore_counts')"
   ]
  },
  {
   "cell_type": "code",
   "execution_count": 10,
   "metadata": {},
   "outputs": [
    {
     "data": {
      "text/plain": [
       "<matplotlib.axes._subplots.AxesSubplot at 0xc1d2ef0>"
      ]
     },
     "execution_count": 10,
     "metadata": {},
     "output_type": "execute_result"
    },
    {
     "data": {
      "image/png": "[encoded data removed]",
      "text/plain": [
       "<matplotlib.figure.Figure at 0xb942f98>"
      ]
     },
     "metadata": {},
     "output_type": "display_data"
    },
    {
     "data": {
      "image/png": "[encoded data removed]",
      "text/plain": [
       "<matplotlib.figure.Figure at 0xbd9dc50>"
      ]
     },
     "metadata": {},
     "output_type": "display_data"
    },
    {
     "data": {
      "image/png": "[encoded data removed]",
      "text/plain": [
       "<matplotlib.figure.Figure at 0xc1c7a20>"
      ]
     },
     "metadata": {},
     "output_type": "display_data"
    }
   ],
   "source": [
    "noshow_only = data[data['noshow']==1]\n",
    "fig, axes = plt.subplots(nrows=2, ncols=4, figsize=(15,15))\n",
    "fig.tight_layout() # Or equivalently,  \"plt.tight_layout()\"\n",
    "fig.set_size_inches(20, 10)\n",
    "plt.subplots_adjust(wspace=1, hspace=1)\n",
    "\n",
    "# Gender\n",
    "g = noshow_only.groupby(['gender']).size().reset_index(name='gender_noshow_counts')\n",
    "g['gender_counts'] = data.groupby(['gender']).size().reset_index(name='gender_counts')['gender_counts']\n",
    "g['gender_percent'] = g.apply(lambda row: row.gender_noshow_counts / row.gender_counts * 100, axis=1)\n",
    "g = g.drop(columns=['gender_noshow_counts','gender_counts'])\n",
    "g.iloc[0, g.columns.get_loc('gender')] = 'Female'\n",
    "g.iloc[1, g.columns.get_loc('gender')] = 'Male'\n",
    "g = g.set_index('gender')\n",
    "g.plot.bar(subplots=True, legend=None, ax=axes[0,0], rot=0, fontsize=12)\n",
    "\n",
    "# Scholarship\n",
    "s = noshow_only.groupby(['scholarship']).size().reset_index(name='scholarship_noshow_counts')\n",
    "s['scholarship_counts'] = data.groupby(['scholarship']).size().reset_index(name='scholarship_counts')['scholarship_counts']\n",
    "s['scholarship_percent'] = s.apply(lambda row: row.scholarship_noshow_counts / row.scholarship_counts * 100, axis=1)\n",
    "s = s.drop(columns=['scholarship_noshow_counts','scholarship_counts'])\n",
    "s.iloc[0, s.columns.get_loc('scholarship')] = 'No'\n",
    "s.iloc[1, s.columns.get_loc('scholarship')] = 'Yes'\n",
    "s = s.set_index('scholarship')\n",
    "s.plot.bar(subplots=True, legend=None, ax=axes[0,1], rot=0, figsize=(15,10), fontsize=12)\n",
    "\n",
    "# Hipertension  \n",
    "h = noshow_only.groupby(['hipertension']).size().reset_index(name='hipertension_noshow_counts')\n",
    "h['hipertension_counts'] = data.groupby(['hipertension']).size().reset_index(name='hipertension_counts')['hipertension_counts']\n",
    "h['hipertension_percent'] = h.apply(lambda row: row.hipertension_noshow_counts / row.hipertension_counts * 100, axis=1)\n",
    "h = h.drop(columns=['hipertension_noshow_counts','hipertension_counts'])\n",
    "h.iloc[0, h.columns.get_loc('hipertension')] = 'No'\n",
    "h.iloc[1, h.columns.get_loc('hipertension')] = 'Yes'\n",
    "h = h.set_index('hipertension')\n",
    "h.plot.bar(subplots=True, legend=None, ax=axes[0,2], rot=0, figsize=(15,10), fontsize=12)\n",
    "\n",
    "# Diabetes\n",
    "d = noshow_only.groupby(['diabetes']).size().reset_index(name='diabetes_noshow_counts')\n",
    "d['diabetes_counts'] = data.groupby(['diabetes']).size().reset_index(name='diabetes_counts')['diabetes_counts']\n",
    "d['diabetes_percent'] = d.apply(lambda row: row.diabetes_noshow_counts / row.diabetes_counts * 100, axis=1)\n",
    "d = d.drop(columns=['diabetes_noshow_counts','diabetes_counts'])\n",
    "d.iloc[0, d.columns.get_loc('diabetes')] = 'No'\n",
    "d.iloc[1, d.columns.get_loc('diabetes')] = 'Yes'\n",
    "d = d.set_index('diabetes')\n",
    "d.plot.bar(subplots=True, legend=None, ax=axes[0,3], rot=0, figsize=(15,10), fontsize=12)\n",
    "\n",
    "# Alcoholism\n",
    "a = noshow_only.groupby(['alcoholism']).size().reset_index(name='alcoholism_noshow_counts')\n",
    "a['alcoholism_counts'] = data.groupby(['alcoholism']).size().reset_index(name='alcoholism_counts')['alcoholism_counts']\n",
    "a['alcoholism_percent'] = a.apply(lambda row: row.alcoholism_noshow_counts / row.alcoholism_counts * 100, axis=1)\n",
    "a = a.drop(columns=['alcoholism_noshow_counts','alcoholism_counts'])\n",
    "a.iloc[0, a.columns.get_loc('alcoholism')] = 'No'\n",
    "a.iloc[1, a.columns.get_loc('alcoholism')] = 'Yes'\n",
    "a = a.set_index('alcoholism')\n",
    "a.plot.bar(subplots=True, legend=None, ax=axes[1,0], rot=0, figsize=(15,10), fontsize=12)\n",
    "\n",
    "# Handcap\n",
    "c = noshow_only.groupby(['handcap']).size().reset_index(name='handcap_noshow_counts')\n",
    "c['handcap_counts'] = data.groupby(['handcap']).size().reset_index(name='handcap_counts')['handcap_counts']\n",
    "c['handcap_percent'] = c.apply(lambda row: row.handcap_noshow_counts / row.handcap_counts * 100, axis=1)\n",
    "c = c.drop(columns=['handcap_noshow_counts','handcap_counts'])\n",
    "c = c.set_index('handcap')\n",
    "c.plot.bar(subplots=True, legend=None, ax=axes[1,1], rot=0, figsize=(15,10), fontsize=12)\n",
    "\n",
    "# Sms Received\n",
    "s = noshow_only.groupby(['smsreceived']).size().reset_index(name='smsreceived_noshow_counts')\n",
    "s['smsreceived_counts'] = data.groupby(['smsreceived']).size().reset_index(name='smsreceived_counts')['smsreceived_counts']\n",
    "s['smsreceived_percent'] = s.apply(lambda row: row.smsreceived_noshow_counts / row.smsreceived_counts * 100, axis=1)\n",
    "s = s.drop(columns=['smsreceived_noshow_counts','smsreceived_counts'])\n",
    "s.iloc[0, s.columns.get_loc('smsreceived')] = 'No'\n",
    "s.iloc[1, s.columns.get_loc('smsreceived')] = 'Yes'\n",
    "s = s.set_index('smsreceived')\n",
    "s.plot.bar(subplots=True, legend=None, ax=axes[1,2], rot=0, figsize=(15,10), fontsize=12)\n",
    "\n",
    "# daysbefore\n",
    "b1 = noshow_only.groupby(['daysbefore']).size().reset_index(name='daysbefore_noshow_counts')\n",
    "b2 = data.groupby(['daysbefore']).size().reset_index(name='daysbefore_counts')\n",
    "# show all records from data\n",
    "b = pd.merge(b1, b2, on='daysbefore', how='right').fillna(0)\n",
    "b['daysbefore_percent'] = b.apply(lambda row: row.daysbefore_noshow_counts / row.daysbefore_counts * 100, axis=1)\n",
    "b = b.drop(columns=['daysbefore_noshow_counts','daysbefore_counts'])\n",
    "b = b.set_index('daysbefore')\n",
    "b.plot.bar(legend=None, rot=0, figsize=(15,10), fontsize=12)\n",
    "\n",
    "\n",
    "# neighbourhood\n",
    "n1 = noshow_only.groupby(['neighbourhood']).size().reset_index(name='neighbourhood_noshow_counts')\n",
    "n2 = data.groupby(['neighbourhood']).size().reset_index(name='neighbourhood_counts')\n",
    "# show all records from data\n",
    "n = pd.merge(n1, n2, on='neighbourhood', how='right').fillna(0)\n",
    "n['neighbourhood_percent'] = n.apply(lambda row: row.neighbourhood_noshow_counts / row.neighbourhood_counts * 100, axis=1)\n",
    "n = n.drop(columns=['neighbourhood_noshow_counts','neighbourhood_counts']).sort_values(by=['neighbourhood_percent'])\n",
    "n = n.set_index('neighbourhood')\n",
    "n.plot.bar(legend=None, rot=0, figsize=(15,10), fontsize=12)\n",
    "\n",
    "# print(data.groupby(['scholarship']).size().reset_index(name='counts'))\n",
    "# print(data.groupby(['hipertension']).size().reset_index(name='counts'))\n",
    "# print(data.groupby(['diabetes']).size().reset_index(name='counts'))\n",
    "# print(data.groupby(['alcoholism']).size().reset_index(name='counts'))\n",
    "# print(data.groupby(['handcap']).size().reset_index(name='counts'))\n",
    "# print(data.groupby(['smsreceived']).size().reset_index(name='counts'))\n",
    "\n",
    "# d1 = pd.pivot_table(data,index=['noshow'],values=['gender'],aggfunc='count')\n",
    "# print(d1)"
   ]
  },
  {
   "cell_type": "code",
   "execution_count": 11,
   "metadata": {},
   "outputs": [],
   "source": [
    "# n_groups = 1\n",
    "# row_0 = g[g['gender'] == 0]['gender_percent']\n",
    "# row_1 = g[g['gender'] == 1]['gender_percent']\n",
    "# print(row_1)\n",
    "# # create plot\n",
    "# fig, ax = plt.subplots()\n",
    "# index = np.arange(n_groups)\n",
    "# bar_width = 1\n",
    "# opacity = 0.8\n",
    " \n",
    "# rects1 = plt.bar(0, row_0, bar_width,\n",
    "#                  alpha=opacity,\n",
    "#                  color='g',\n",
    "#                  label='Female')\n",
    "# rects2 = plt.bar(index + bar_width, row_1, bar_width,\n",
    "#                  alpha=opacity,\n",
    "#                  color='b',\n",
    "#                  label='Male')\n",
    " \n",
    "# plt.xlabel('Gender')\n",
    "# plt.ylabel('%')\n",
    "# plt.title('No-Show Percentage')\n",
    "# # plt.xticks(index + bar_width, ('Gender'))\n",
    "# plt.legend()\n",
    " \n",
    "# plt.tight_layout()\n",
    "# plt.show()"
   ]
  },
  {
   "cell_type": "markdown",
   "metadata": {},
   "source": [
    "* <h3>Drop Columns"
   ]
  },
  {
   "cell_type": "code",
   "execution_count": 12,
   "metadata": {},
   "outputs": [],
   "source": [
    "#drop 3 columns that we don't need\n",
    "# data.drop('patientid', axis=1, inplace=True)\n",
    "data.drop('appointmentid', axis=1, inplace=True) #axis=1 means apply for each row\n",
    "data.drop('appointmentday', axis=1, inplace=True)#axis=1 means apply for each row\n",
    "data.drop('scheduledday', axis=1, inplace=True) #axis=1 means apply for each row\n",
    "data.drop('appointmentdayofweek', axis=1, inplace=True) #axis=1 means apply for each row \n",
    "data.drop('age', axis=1, inplace=True) #axis=1 means apply for each row \n",
    "# data.drop('agegroup', axis=1, inplace=True) #axis=1 means apply for each row \n",
    "# data.drop('daysbefore', axis=1, inplace=True) #axis=1 means apply for each row \n",
    "data.drop('neighbourhood', axis=1, inplace=True) #axis=1 means apply for each row \n",
    "data.drop('alcoholism', axis=1, inplace=True) #axis=1 means apply for each row\n",
    "data.drop('diabetes', axis=1, inplace=True) #axis=1 means apply for each row\n",
    "# data.drop('gender', axis=1, inplace=True) #axis=1 means apply for each row\n",
    "data.drop('handcap', axis=1, inplace=True) #axis=1 means apply for each row\n",
    "data.drop('scholarship', axis=1, inplace=True) #axis=1 means apply for each row\n",
    "data.drop('hipertension', axis=1, inplace=True) #axis=1 means apply for each row\n",
    "data.drop('smsreceived', axis=1, inplace=True) #axis=1 means apply for each row"
   ]
  },
  {
   "cell_type": "code",
   "execution_count": 13,
   "metadata": {},
   "outputs": [
    {
     "name": "stdout",
     "output_type": "stream",
     "text": [
      "          patientid  gender  daysbefore  agegroup  noshow\n",
      "12142  3.319548e+10       0           0         2       0\n",
      "91429  4.123926e+13       0          37         3       0\n",
      "n = 110522 and p = 5\n"
     ]
    }
   ],
   "source": [
    "# checking\n",
    "print(data.head(2))\n",
    "print('n = {} and p = {}'.format(data.shape[0], data.shape[1]))"
   ]
  },
  {
   "cell_type": "markdown",
   "metadata": {},
   "source": [
    "## Model"
   ]
  },
  {
   "cell_type": "code",
   "execution_count": 14,
   "metadata": {},
   "outputs": [
    {
     "name": "stdout",
     "output_type": "stream",
     "text": [
      "[[3.31954763e+10 0.00000000e+00 0.00000000e+00 2.00000000e+00]\n",
      " [4.12392574e+13 0.00000000e+00 3.70000000e+01 3.00000000e+00]]\n",
      "[0. 0.]\n",
      "442088\n"
     ]
    }
   ],
   "source": [
    "# Split-out validation dataset (No-show column only)\n",
    "col = len(data.columns) - 1\n",
    "array = data.values   #numpy array\n",
    "X = array[:,0:col]#numpy array - 11 first columns\n",
    "Y = array[:,col]  #numpy array - the 12st column\n",
    "print(X[0:2,])  #print top 2 rows\n",
    "print(Y[0:2,])  #print top 2 rows\n",
    "print(X.size)"
   ]
  },
  {
   "cell_type": "code",
   "execution_count": 15,
   "metadata": {},
   "outputs": [
    {
     "name": "stdout",
     "output_type": "stream",
     "text": [
      "[[7.96269952e+13 0.00000000e+00 7.00000000e+00 2.00000000e+00]\n",
      " [1.57272266e+12 0.00000000e+00 3.30000000e+01 2.00000000e+00]\n",
      " [4.99855391e+14 1.00000000e+00 1.10000000e+01 2.00000000e+00]\n",
      " ...\n",
      " [8.37756963e+12 0.00000000e+00 3.40000000e+01 2.00000000e+00]\n",
      " [2.96189240e+14 0.00000000e+00 1.50000000e+01 2.00000000e+00]\n",
      " [8.93788924e+13 1.00000000e+00 2.90000000e+01 2.00000000e+00]]\n"
     ]
    }
   ],
   "source": [
    "validation_size = 0.20\n",
    "seed = 7\n",
    "X_train, X_validation, Y_train, Y_validation = model_selection.train_test_split(X, Y, test_size=validation_size, random_state=seed)\n",
    "\n",
    "print('{}'.format(X_train, Y_train))"
   ]
  },
  {
   "cell_type": "code",
   "execution_count": 16,
   "metadata": {},
   "outputs": [
    {
     "name": "stdout",
     "output_type": "stream",
     "text": [
      "[[7.96269952e+13 0.00000000e+00 7.00000000e+00 2.00000000e+00]\n",
      " [1.57272266e+12 0.00000000e+00 3.30000000e+01 2.00000000e+00]\n",
      " [4.99855391e+14 1.00000000e+00 1.10000000e+01 2.00000000e+00]\n",
      " ...\n",
      " [8.37756963e+12 0.00000000e+00 3.40000000e+01 2.00000000e+00]\n",
      " [2.96189240e+14 0.00000000e+00 1.50000000e+01 2.00000000e+00]\n",
      " [8.93788924e+13 1.00000000e+00 2.90000000e+01 2.00000000e+00]]\n"
     ]
    }
   ],
   "source": [
    "validation_size = 0.20\n",
    "seed = 7\n",
    "X_train, X_validation, Y_train, Y_validation = model_selection.train_test_split(X, Y, test_size=validation_size, random_state=seed)\n",
    "\n",
    "print('{}'.format(X_train, Y_train))"
   ]
  },
  {
   "cell_type": "code",
   "execution_count": null,
   "metadata": {},
   "outputs": [],
   "source": [
    "# Test options and evaluation metric\n",
    "seed = 7\n",
    "scoring = 'accuracy'"
   ]
  },
  {
   "cell_type": "code",
   "execution_count": null,
   "metadata": {},
   "outputs": [
    {
     "name": "stdout",
     "output_type": "stream",
     "text": [
      "LR: 0.797528 (0.002515)\n",
      "LDA: 0.787857 (0.001999)\n",
      "KNN: 0.766459 (0.002537)\n",
      "CART: 0.734813 (0.002458)\n",
      "NB: 0.797528 (0.002515)\n"
     ]
    }
   ],
   "source": [
    "# Spot Check Algorithms\n",
    "models = []\n",
    "models.append(('LR', LogisticRegression()))\n",
    "models.append(('LDA', LinearDiscriminantAnalysis()))\n",
    "models.append(('KNN', KNeighborsClassifier()))\n",
    "models.append(('CART', DecisionTreeClassifier()))\n",
    "models.append(('NB', GaussianNB()))\n",
    "models.append(('SVM', SVC()))\n",
    "# evaluate each model in turn\n",
    "results = []\n",
    "names = []\n",
    "for name, model in models:\n",
    "    kfold = model_selection.KFold(n_splits=10, random_state=seed)\n",
    "    cv_results = model_selection.cross_val_score(model, X_train, Y_train, cv=kfold, scoring=scoring)\n",
    "    results.append(cv_results)\n",
    "    names.append(name)\n",
    "    msg = \"%s: %f (%f)\" % (name, cv_results.mean(), cv_results.std())\n",
    "    print(msg)"
   ]
  },
  {
   "cell_type": "code",
   "execution_count": null,
   "metadata": {},
   "outputs": [],
   "source": [
    "# Compare Algorithms\n",
    "fig = plt.figure()\n",
    "fig.suptitle('Algorithm Comparison')\n",
    "ax = fig.add_subplot(111)\n",
    "plt.boxplot(results)\n",
    "ax.set_xticklabels(names)\n",
    "plt.show()"
   ]
  },
  {
   "cell_type": "code",
   "execution_count": null,
   "metadata": {},
   "outputs": [],
   "source": [
    "# Make predictions on validation dataset\n",
    "# knn = KNeighborsClassifier()\n",
    "# knn.fit(X_train, Y_train)\n",
    "# predictions = knn.predict(X_validation)\n",
    "lr = LogisticRegression()\n",
    "lr.fit(X_train, Y_train)\n",
    "predictions = lr.predict(X_validation)\n",
    "\n",
    "print(accuracy_score(Y_validation, predictions))\n",
    "print(confusion_matrix(Y_validation, predictions))\n",
    "print(classification_report(Y_validation, predictions))"
   ]
  },
  {
   "cell_type": "markdown",
   "metadata": {},
   "source": [
    "## Conclusion\n",
    "#### bla bla bla"
   ]
  },
  {
   "cell_type": "code",
   "execution_count": null,
   "metadata": {},
   "outputs": [],
   "source": []
  }
 ],
 "metadata": {
  "kernelspec": {
   "display_name": "Python 3",
   "language": "python",
   "name": "python3"
  },
  "language_info": {
   "codemirror_mode": {
    "name": "ipython",
    "version": 3
   },
   "file_extension": ".py",
   "mimetype": "text/x-python",
   "name": "python",
   "nbconvert_exporter": "python",
   "pygments_lexer": "ipython3",
   "version": "3.6.4"
  }
 },
 "nbformat": 4,
 "nbformat_minor": 2
}
