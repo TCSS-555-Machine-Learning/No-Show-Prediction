{
 "cells": [
  {
   "cell_type": "code",
   "execution_count": 1,
   "metadata": {},
   "outputs": [],
   "source": [
    "# Load libraries\n",
    "\n",
    "import numpy as np\n",
    "import pandas as pd\n",
    "import matplotlib.pyplot as plt\n",
    "\n",
    "from datetime import datetime\n",
    "from dateutil.parser import parse\n",
    "from pandas.plotting import scatter_matrix\n",
    "from sklearn.utils import shuffle\n",
    "from sklearn.preprocessing import MinMaxScaler\n",
    "from sklearn import model_selection\n",
    "from sklearn.metrics import classification_report\n",
    "from sklearn.metrics import confusion_matrix\n",
    "from sklearn.metrics import accuracy_score\n",
    "from sklearn.linear_model import LogisticRegression\n",
    "from sklearn.tree import DecisionTreeClassifier\n",
    "from sklearn.neighbors import KNeighborsClassifier\n",
    "from sklearn.discriminant_analysis import LinearDiscriminantAnalysis\n",
    "from sklearn.naive_bayes import GaussianNB\n",
    "from sklearn.svm import SVC"
   ]
  },
  {
   "cell_type": "code",
   "execution_count": 2,
   "metadata": {},
   "outputs": [
    {
     "name": "stdout",
     "output_type": "stream",
     "text": [
      "Current folder is C:\\Users\\toddr\\Desktop\\HospitalNoShow\n"
     ]
    }
   ],
   "source": [
    "import os \n",
    "cwd = os.getcwd()\n",
    "print('Current folder is {}'.format(cwd))"
   ]
  },
  {
   "cell_type": "code",
   "execution_count": 3,
   "metadata": {},
   "outputs": [],
   "source": [
    "def get_gender_classification(gender):\n",
    "    if gender == 'F':\n",
    "        return 0\n",
    "    elif gender == 'M':\n",
    "        return 1\n",
    "    else:\n",
    "        return -1\n",
    "    \n",
    "def get_noshow_classification(noshow):\n",
    "    if noshow == 'No':\n",
    "        return 0\n",
    "    elif noshow == 'Yes':\n",
    "        return 1\n",
    "    else:\n",
    "        return -1\n",
    "    \n",
    "def get_neighbourhood_classification(neighbour):\n",
    "    i, = np.where(neighbourhood == neighbour)\n",
    "    return i[0]\n",
    "\n",
    "def get_days(sch , app):\n",
    "    a = app[0:10]\n",
    "    b = parse(a)    \n",
    "    c = sch[0:10]\n",
    "    d = parse(c)\n",
    "    return (b - d)\n",
    "\n",
    "def get_age_classification(age):\n",
    "    if (age<=1):\n",
    "        return age\n",
    "    elif (age<65):\n",
    "        return 2\n",
    "    else:\n",
    "        return 3\n",
    "\n",
    "def add_data(row):\n",
    "    row.gender = get_gender_classification(row.gender)\n",
    "    row.noshow = get_noshow_classification(row.noshow)\n",
    "    row.neighbourhood = get_neighbourhood_classification(row.neighbourhood)\n",
    "    row.agegroup = get_age_classification(row.age)\n",
    "    day1 = parse(row.scheduledday[0:10])\n",
    "    day2 = parse(row.appointmentday[0:10])\n",
    "    row.daysbefore = (day2 - day1).days\n",
    "    row.appointmentdayofweek = datetime.weekday(day2)\n",
    "    return row"
   ]
  },
  {
   "cell_type": "code",
   "execution_count": 148,
   "metadata": {},
   "outputs": [
    {
     "name": "stdout",
     "output_type": "stream",
     "text": [
      "n = 5000 and p = 14\n"
     ]
    }
   ],
   "source": [
    "# Load dataset\n",
    "data = pd.read_csv(\"Data\\KaggleV2-May-2016.csv\")\n",
    "data = shuffle(data)\n",
    "data = data[:5000]  #get first 5000 rows\n",
    "\n",
    "# Dimensions of dataset\n",
    "n = data.shape[0] #rows\n",
    "p = data.shape[1] #columns\n",
    "\n",
    "# Lower case all column header\n",
    "data.columns = [x.lower() for x in data.columns]\n",
    "\n",
    "# Rename several DataFrame columns\n",
    "data = data.rename(columns = {\n",
    "    'sms_received' : 'smsreceived',\n",
    "    'no-show':'noshow',\n",
    "})\n",
    "\n",
    "print('n = {} and p = {}'.format(n, p))"
   ]
  },
  {
   "cell_type": "code",
   "execution_count": 149,
   "metadata": {},
   "outputs": [
    {
     "name": "stdout",
     "output_type": "stream",
     "text": [
      "Datasets shape: (5000, 14)\n",
      "           patientid  appointmentid gender          scheduledday  \\\n",
      "104401  8.347981e+11        5767570      M  2016-06-02T18:45:26Z   \n",
      "108837  8.534397e+14        5788235      F  2016-06-08T11:39:35Z   \n",
      "\n",
      "              appointmentday  appointmentdayofweek  daysbefore  age  \\\n",
      "104401  2016-06-06T00:00:00Z                     0           0   50   \n",
      "108837  2016-06-08T00:00:00Z                     0           0   37   \n",
      "\n",
      "              neighbourhood  agegroup  scholarship  hipertension  diabetes  \\\n",
      "104401            DO CABRAL         0            0             1         0   \n",
      "108837  ILHA DE SANTA MARIA         0            0             0         0   \n",
      "\n",
      "        alcoholism  handcap  smsreceived noshow  \n",
      "104401           0        0            1     No  \n",
      "108837           0        0            0     No  \n"
     ]
    }
   ],
   "source": [
    "# shape\n",
    "print('Dataset''s shape: {}'.format(data.shape))\n",
    "\n",
    "# add 2 columns\n",
    "data.insert(7, 'agegroup', 0)\n",
    "data.insert(5, 'daysbefore', 0) #how many days from scheduled day to appointment day\n",
    "data.insert(5, 'appointmentdayofweek', 0)  #what is the day of week of the appointment day\n",
    "\n",
    "# head\n",
    "print(data.head(2))\n",
    "\n",
    "# descriptions\n",
    "# print(data.describe())"
   ]
  },
  {
   "cell_type": "code",
   "execution_count": 150,
   "metadata": {},
   "outputs": [
    {
     "name": "stdout",
     "output_type": "stream",
     "text": [
      "['DO CABRAL' 'ILHA DE SANTA MARIA' 'SANTA TEREZA' 'SANTO ANTÔNIO'\n",
      " 'MONTE BELO' 'JARDIM CAMBURI' 'MARIA ORTIZ' 'REDENÇÃO' 'FORTE SÃO JOÃO'\n",
      " 'SANTO ANDRÉ' 'ILHA DAS CAIEIRAS' 'PRAIA DO SUÁ' 'DO QUADRO'\n",
      " 'RESISTÊNCIA' 'BONFIM' 'JARDIM DA PENHA' 'CENTRO' 'ROMÃO' 'CRUZAMENTO'\n",
      " 'SÃO BENEDITO' 'GOIABEIRAS' 'JABOUR' 'MATA DA PRAIA' 'ITARARÉ'\n",
      " 'TABUAZEIRO' 'GURIGICA' 'PIEDADE' 'DA PENHA' 'SANTOS DUMONT' 'ANDORINHAS'\n",
      " 'SÃO CRISTÓVÃO' 'PARQUE MOSCOSO' 'CARATOÍRA' 'NOVA PALESTINA'\n",
      " 'MÁRIO CYPRESTE' 'ESTRELINHA' 'INHANGUETÁ' 'PRAIA DO CANTO'\n",
      " 'SANTA MARTHA' 'FONTE GRANDE' 'COMDUSA' 'SÃO JOSÉ' 'SANTA CLARA'\n",
      " 'FRADINHOS' 'ILHA DO PRÍNCIPE' 'SANTOS REIS' 'CONSOLAÇÃO'\n",
      " 'JESUS DE NAZARETH' 'MARUÍPE' 'SÃO PEDRO' 'GRANDE VITÓRIA' 'DE LOURDES'\n",
      " 'JUCUTUQUARA' 'JOANA D´ARC' 'BENTO FERREIRA' 'VILA RUBIM'\n",
      " 'BARRO VERMELHO' 'BELA VISTA' 'SOLON BORGES' 'ILHA DO BOI'\n",
      " 'ENSEADA DO SUÁ' 'BOA VISTA' 'SANTA HELENA' 'SANTA CECÍLIA' 'DO MOSCOSO'\n",
      " 'REPÚBLICA' 'SEGURANÇA DO LAR' 'CONQUISTA' 'SANTA LÚCIA'\n",
      " 'ARIOVALDO FAVALESSA' 'MORADA DE CAMBURI' 'NAZARETH' 'SANTA LUÍZA'\n",
      " 'ANTÔNIO HONÓRIO' 'HORTO' 'UNIVERSITÁRIO' 'PONTAL DE CAMBURI'\n",
      " 'ILHA DO FRADE']\n"
     ]
    }
   ],
   "source": [
    "neighbourhood = data.neighbourhood.unique()\n",
    "print(neighbourhood)"
   ]
  },
  {
   "cell_type": "code",
   "execution_count": 151,
   "metadata": {},
   "outputs": [],
   "source": [
    "data = data.apply(lambda row: add_data(row), axis=1)"
   ]
  },
  {
   "cell_type": "code",
   "execution_count": 152,
   "metadata": {},
   "outputs": [
    {
     "name": "stdout",
     "output_type": "stream",
     "text": [
      "           patientid  appointmentid  gender          scheduledday  \\\n",
      "104401  8.347981e+11        5767570       1  2016-06-02T18:45:26Z   \n",
      "108837  8.534397e+14        5788235       0  2016-06-08T11:39:35Z   \n",
      "23610   1.697991e+13        5541060       1  2016-04-05T07:38:10Z   \n",
      "37612   9.727743e+13        5679774       0  2016-05-10T10:27:59Z   \n",
      "63829   5.575876e+13        5696012       1  2016-05-13T11:24:52Z   \n",
      "\n",
      "              appointmentday  appointmentdayofweek  daysbefore  age  \\\n",
      "104401  2016-06-06T00:00:00Z                     0           4   50   \n",
      "108837  2016-06-08T00:00:00Z                     2           0   37   \n",
      "23610   2016-05-04T00:00:00Z                     2          29   46   \n",
      "37612   2016-05-16T00:00:00Z                     0           6   40   \n",
      "63829   2016-05-16T00:00:00Z                     0           3   58   \n",
      "\n",
      "        neighbourhood  agegroup  scholarship  hipertension  diabetes  \\\n",
      "104401              0         2            0             1         0   \n",
      "108837              1         2            0             0         0   \n",
      "23610               2         2            0             0         0   \n",
      "37612               3         2            0             1         0   \n",
      "63829               4         2            0             0         0   \n",
      "\n",
      "        alcoholism  handcap  smsreceived  noshow  \n",
      "104401           0        0            1       0  \n",
      "108837           0        0            0       0  \n",
      "23610            0        0            1       0  \n",
      "37612            0        0            0       1  \n",
      "63829            0        0            0       0  \n"
     ]
    },
    {
     "data": {
      "text/html": [
       "<div>\n",
       "<style scoped>\n",
       "    .dataframe tbody tr th:only-of-type {\n",
       "        vertical-align: middle;\n",
       "    }\n",
       "\n",
       "    .dataframe tbody tr th {\n",
       "        vertical-align: top;\n",
       "    }\n",
       "\n",
       "    .dataframe thead th {\n",
       "        text-align: right;\n",
       "    }\n",
       "</style>\n",
       "<table border=\"1\" class=\"dataframe\">\n",
       "  <thead>\n",
       "    <tr style=\"text-align: right;\">\n",
       "      <th></th>\n",
       "      <th>appointmentdayofweek</th>\n",
       "      <th>noshow</th>\n",
       "      <th>counts</th>\n",
       "    </tr>\n",
       "  </thead>\n",
       "  <tbody>\n",
       "    <tr>\n",
       "      <th>0</th>\n",
       "      <td>0</td>\n",
       "      <td>0</td>\n",
       "      <td>833</td>\n",
       "    </tr>\n",
       "    <tr>\n",
       "      <th>1</th>\n",
       "      <td>0</td>\n",
       "      <td>1</td>\n",
       "      <td>226</td>\n",
       "    </tr>\n",
       "    <tr>\n",
       "      <th>2</th>\n",
       "      <td>1</td>\n",
       "      <td>0</td>\n",
       "      <td>925</td>\n",
       "    </tr>\n",
       "    <tr>\n",
       "      <th>3</th>\n",
       "      <td>1</td>\n",
       "      <td>1</td>\n",
       "      <td>205</td>\n",
       "    </tr>\n",
       "    <tr>\n",
       "      <th>4</th>\n",
       "      <td>2</td>\n",
       "      <td>0</td>\n",
       "      <td>957</td>\n",
       "    </tr>\n",
       "    <tr>\n",
       "      <th>5</th>\n",
       "      <td>2</td>\n",
       "      <td>1</td>\n",
       "      <td>225</td>\n",
       "    </tr>\n",
       "    <tr>\n",
       "      <th>6</th>\n",
       "      <td>3</td>\n",
       "      <td>0</td>\n",
       "      <td>618</td>\n",
       "    </tr>\n",
       "    <tr>\n",
       "      <th>7</th>\n",
       "      <td>3</td>\n",
       "      <td>1</td>\n",
       "      <td>149</td>\n",
       "    </tr>\n",
       "    <tr>\n",
       "      <th>8</th>\n",
       "      <td>4</td>\n",
       "      <td>0</td>\n",
       "      <td>672</td>\n",
       "    </tr>\n",
       "    <tr>\n",
       "      <th>9</th>\n",
       "      <td>4</td>\n",
       "      <td>1</td>\n",
       "      <td>189</td>\n",
       "    </tr>\n",
       "    <tr>\n",
       "      <th>10</th>\n",
       "      <td>5</td>\n",
       "      <td>0</td>\n",
       "      <td>1</td>\n",
       "    </tr>\n",
       "  </tbody>\n",
       "</table>\n",
       "</div>"
      ],
      "text/plain": [
       "    appointmentdayofweek  noshow  counts\n",
       "0                      0       0     833\n",
       "1                      0       1     226\n",
       "2                      1       0     925\n",
       "3                      1       1     205\n",
       "4                      2       0     957\n",
       "5                      2       1     225\n",
       "6                      3       0     618\n",
       "7                      3       1     149\n",
       "8                      4       0     672\n",
       "9                      4       1     189\n",
       "10                     5       0       1"
      ]
     },
     "execution_count": 152,
     "metadata": {},
     "output_type": "execute_result"
    }
   ],
   "source": [
    "print(data.head(5))\n",
    "data.groupby(['appointmentdayofweek','noshow']).size().reset_index(name='counts')"
   ]
  },
  {
   "cell_type": "code",
   "execution_count": 153,
   "metadata": {},
   "outputs": [],
   "source": [
    "#drop 3 columns that we don't need\n",
    "# data.drop('patientid', axis=1, inplace=True)\n",
    "data.drop('appointmentid', axis=1, inplace=True) #axis=1 means apply for each row\n",
    "data.drop('appointmentday', axis=1, inplace=True)#axis=1 means apply for each row\n",
    "data.drop('scheduledday', axis=1, inplace=True) #axis=1 means apply for each row\n",
    "data.drop('appointmentdayofweek', axis=1, inplace=True) #axis=1 means apply for each row \n",
    "data.drop('age', axis=1, inplace=True) #axis=1 means apply for each row \n",
    "# data.drop('agegroup', axis=1, inplace=True) #axis=1 means apply for each row \n",
    "# data.drop('daysbefore', axis=1, inplace=True) #axis=1 means apply for each row \n",
    "data.drop('neighbourhood', axis=1, inplace=True) #axis=1 means apply for each row \n",
    "data.drop('alcoholism', axis=1, inplace=True) #axis=1 means apply for each row\n",
    "data.drop('diabetes', axis=1, inplace=True) #axis=1 means apply for each row\n",
    "# data.drop('gender', axis=1, inplace=True) #axis=1 means apply for each row\n",
    "data.drop('handcap', axis=1, inplace=True) #axis=1 means apply for each row\n",
    "data.drop('scholarship', axis=1, inplace=True) #axis=1 means apply for each row\n",
    "data.drop('hipertension', axis=1, inplace=True) #axis=1 means apply for each row\n",
    "data.drop('smsreceived', axis=1, inplace=True) #axis=1 means apply for each row"
   ]
  },
  {
   "cell_type": "code",
   "execution_count": 154,
   "metadata": {},
   "outputs": [
    {
     "name": "stdout",
     "output_type": "stream",
     "text": [
      "           patientid  gender  daysbefore  agegroup  noshow\n",
      "104401  8.347981e+11       1           4         2       0\n",
      "108837  8.534397e+14       0           0         2       0\n",
      "n = 5000 and p = 5\n"
     ]
    }
   ],
   "source": [
    "# checking\n",
    "print(data.head(2))\n",
    "print('n = {} and p = {}'.format(data.shape[0], data.shape[1]))"
   ]
  },
  {
   "cell_type": "code",
   "execution_count": 155,
   "metadata": {},
   "outputs": [
    {
     "name": "stdout",
     "output_type": "stream",
     "text": [
      "[[8.34798139e+11 1.00000000e+00 4.00000000e+00 2.00000000e+00]\n",
      " [8.53439687e+14 0.00000000e+00 0.00000000e+00 2.00000000e+00]]\n",
      "[0. 0.]\n",
      "20000\n"
     ]
    }
   ],
   "source": [
    "# Split-out validation dataset (No-show column only)\n",
    "col = len(data.columns) - 1\n",
    "array = data.values   #numpy array\n",
    "X = array[:,0:col]#numpy array - 11 first columns\n",
    "Y = array[:,col]  #numpy array - the 12st column\n",
    "print(X[0:2,])  #print top 2 rows\n",
    "print(Y[0:2,])  #print top 2 rows\n",
    "print(X.size)"
   ]
  },
  {
   "cell_type": "code",
   "execution_count": 156,
   "metadata": {},
   "outputs": [
    {
     "name": "stdout",
     "output_type": "stream",
     "text": [
      "[[1.87469445e+13 0.00000000e+00 0.00000000e+00 3.00000000e+00]\n",
      " [3.67334844e+12 1.00000000e+00 2.00000000e+00 2.00000000e+00]\n",
      " [7.21784413e+13 0.00000000e+00 2.10000000e+01 2.00000000e+00]\n",
      " ...\n",
      " [5.17835784e+11 0.00000000e+00 1.50000000e+01 2.00000000e+00]\n",
      " [1.51347924e+14 0.00000000e+00 8.00000000e+00 2.00000000e+00]\n",
      " [9.19696828e+13 1.00000000e+00 4.20000000e+01 2.00000000e+00]]\n"
     ]
    }
   ],
   "source": [
    "validation_size = 0.20\n",
    "seed = 7\n",
    "X_train, X_validation, Y_train, Y_validation = model_selection.train_test_split(X, Y, test_size=validation_size, random_state=seed)\n",
    "\n",
    "print('{}'.format(X_train, Y_train))"
   ]
  },
  {
   "cell_type": "code",
   "execution_count": 157,
   "metadata": {},
   "outputs": [
    {
     "name": "stdout",
     "output_type": "stream",
     "text": [
      "[[1.87469445e+13 0.00000000e+00 0.00000000e+00 3.00000000e+00]\n",
      " [3.67334844e+12 1.00000000e+00 2.00000000e+00 2.00000000e+00]\n",
      " [7.21784413e+13 0.00000000e+00 2.10000000e+01 2.00000000e+00]\n",
      " ...\n",
      " [5.17835784e+11 0.00000000e+00 1.50000000e+01 2.00000000e+00]\n",
      " [1.51347924e+14 0.00000000e+00 8.00000000e+00 2.00000000e+00]\n",
      " [9.19696828e+13 1.00000000e+00 4.20000000e+01 2.00000000e+00]]\n"
     ]
    }
   ],
   "source": [
    "validation_size = 0.20\n",
    "seed = 7\n",
    "X_train, X_validation, Y_train, Y_validation = model_selection.train_test_split(X, Y, test_size=validation_size, random_state=seed)\n",
    "\n",
    "print('{}'.format(X_train, Y_train))"
   ]
  },
  {
   "cell_type": "code",
   "execution_count": 158,
   "metadata": {},
   "outputs": [],
   "source": [
    "# Test options and evaluation metric\n",
    "seed = 7\n",
    "scoring = 'accuracy'"
   ]
  },
  {
   "cell_type": "code",
   "execution_count": 159,
   "metadata": {},
   "outputs": [
    {
     "name": "stdout",
     "output_type": "stream",
     "text": [
      "LR: 0.801250 (0.023618)\n",
      "LDA: 0.792250 (0.023007)\n",
      "KNN: 0.768000 (0.022439)\n",
      "CART: 0.708750 (0.014843)\n",
      "NB: 0.801250 (0.023618)\n",
      "SVM: 0.800500 (0.024464)\n"
     ]
    }
   ],
   "source": [
    "# Spot Check Algorithms\n",
    "models = []\n",
    "models.append(('LR', LogisticRegression()))\n",
    "models.append(('LDA', LinearDiscriminantAnalysis()))\n",
    "models.append(('KNN', KNeighborsClassifier()))\n",
    "models.append(('CART', DecisionTreeClassifier()))\n",
    "models.append(('NB', GaussianNB()))\n",
    "models.append(('SVM', SVC()))\n",
    "# evaluate each model in turn\n",
    "results = []\n",
    "names = []\n",
    "for name, model in models:\n",
    "    kfold = model_selection.KFold(n_splits=10, random_state=seed)\n",
    "    cv_results = model_selection.cross_val_score(model, X_train, Y_train, cv=kfold, scoring=scoring)\n",
    "    results.append(cv_results)\n",
    "    names.append(name)\n",
    "    msg = \"%s: %f (%f)\" % (name, cv_results.mean(), cv_results.std())\n",
    "    print(msg)"
   ]
  },
  {
   "cell_type": "code",
   "execution_count": 160,
   "metadata": {},
   "outputs": [
    {
     "data": {
      "image/png": "[encoded data removed]",
      "text/plain": [
       "<matplotlib.figure.Figure at 0x1f4ecb49f60>"
      ]
     },
     "metadata": {},
     "output_type": "display_data"
    }
   ],
   "source": [
    "# Compare Algorithms\n",
    "fig = plt.figure()\n",
    "fig.suptitle('Algorithm Comparison')\n",
    "ax = fig.add_subplot(111)\n",
    "plt.boxplot(results)\n",
    "ax.set_xticklabels(names)\n",
    "plt.show()"
   ]
  },
  {
   "cell_type": "code",
   "execution_count": 161,
   "metadata": {},
   "outputs": [
    {
     "name": "stdout",
     "output_type": "stream",
     "text": [
      "0.769\n",
      "[[755  46]\n",
      " [185  14]]\n",
      "             precision    recall  f1-score   support\n",
      "\n",
      "        0.0       0.80      0.94      0.87       801\n",
      "        1.0       0.23      0.07      0.11       199\n",
      "\n",
      "avg / total       0.69      0.77      0.72      1000\n",
      "\n"
     ]
    }
   ],
   "source": [
    "# Make predictions on validation dataset\n",
    "knn = KNeighborsClassifier()\n",
    "knn.fit(X_train, Y_train)\n",
    "predictions = knn.predict(X_validation)\n",
    "print(accuracy_score(Y_validation, predictions))\n",
    "print(confusion_matrix(Y_validation, predictions))\n",
    "print(classification_report(Y_validation, predictions))"
   ]
  },
  {
   "cell_type": "code",
   "execution_count": null,
   "metadata": {},
   "outputs": [],
   "source": []
  }
 ],
 "metadata": {
  "kernelspec": {
   "display_name": "Python 3",
   "language": "python",
   "name": "python3"
  },
  "language_info": {
   "codemirror_mode": {
    "name": "ipython",
    "version": 3
   },
   "file_extension": ".py",
   "mimetype": "text/x-python",
   "name": "python",
   "nbconvert_exporter": "python",
   "pygments_lexer": "ipython3",
   "version": "3.6.4"
  }
 },
 "nbformat": 4,
 "nbformat_minor": 2
}
